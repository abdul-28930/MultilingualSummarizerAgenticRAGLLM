{
 "cells": [
  {
   "cell_type": "code",
   "execution_count": 2,
   "metadata": {},
   "outputs": [
    {
     "name": "stdout",
     "output_type": "stream",
     "text": [
      "Requirement already satisfied: pip in /root/MultilingualSummarizerAgenticRAGLLM/final/lib/python3.11/site-packages (25.0)\n",
      "Note: you may need to restart the kernel to use updated packages.\n",
      "Requirement already satisfied: ipywidgets in /root/MultilingualSummarizerAgenticRAGLLM/final/lib/python3.11/site-packages (8.1.5)\n",
      "Requirement already satisfied: comm>=0.1.3 in /root/MultilingualSummarizerAgenticRAGLLM/final/lib/python3.11/site-packages (from ipywidgets) (0.2.2)\n",
      "Requirement already satisfied: ipython>=6.1.0 in /root/MultilingualSummarizerAgenticRAGLLM/final/lib/python3.11/site-packages (from ipywidgets) (8.31.0)\n",
      "Requirement already satisfied: traitlets>=4.3.1 in /root/MultilingualSummarizerAgenticRAGLLM/final/lib/python3.11/site-packages (from ipywidgets) (5.14.3)\n",
      "Requirement already satisfied: widgetsnbextension~=4.0.12 in /root/MultilingualSummarizerAgenticRAGLLM/final/lib/python3.11/site-packages (from ipywidgets) (4.0.13)\n",
      "Requirement already satisfied: jupyterlab-widgets~=3.0.12 in /root/MultilingualSummarizerAgenticRAGLLM/final/lib/python3.11/site-packages (from ipywidgets) (3.0.13)\n",
      "Requirement already satisfied: decorator in /root/MultilingualSummarizerAgenticRAGLLM/final/lib/python3.11/site-packages (from ipython>=6.1.0->ipywidgets) (5.1.1)\n",
      "Requirement already satisfied: jedi>=0.16 in /root/MultilingualSummarizerAgenticRAGLLM/final/lib/python3.11/site-packages (from ipython>=6.1.0->ipywidgets) (0.19.2)\n",
      "Requirement already satisfied: matplotlib-inline in /root/MultilingualSummarizerAgenticRAGLLM/final/lib/python3.11/site-packages (from ipython>=6.1.0->ipywidgets) (0.1.7)\n",
      "Requirement already satisfied: pexpect>4.3 in /root/MultilingualSummarizerAgenticRAGLLM/final/lib/python3.11/site-packages (from ipython>=6.1.0->ipywidgets) (4.9.0)\n",
      "Requirement already satisfied: prompt_toolkit<3.1.0,>=3.0.41 in /root/MultilingualSummarizerAgenticRAGLLM/final/lib/python3.11/site-packages (from ipython>=6.1.0->ipywidgets) (3.0.50)\n",
      "Requirement already satisfied: pygments>=2.4.0 in /root/MultilingualSummarizerAgenticRAGLLM/final/lib/python3.11/site-packages (from ipython>=6.1.0->ipywidgets) (2.19.1)\n",
      "Requirement already satisfied: stack_data in /root/MultilingualSummarizerAgenticRAGLLM/final/lib/python3.11/site-packages (from ipython>=6.1.0->ipywidgets) (0.6.3)\n",
      "Requirement already satisfied: typing_extensions>=4.6 in /root/MultilingualSummarizerAgenticRAGLLM/final/lib/python3.11/site-packages (from ipython>=6.1.0->ipywidgets) (4.12.2)\n",
      "Requirement already satisfied: parso<0.9.0,>=0.8.4 in /root/MultilingualSummarizerAgenticRAGLLM/final/lib/python3.11/site-packages (from jedi>=0.16->ipython>=6.1.0->ipywidgets) (0.8.4)\n",
      "Requirement already satisfied: ptyprocess>=0.5 in /root/MultilingualSummarizerAgenticRAGLLM/final/lib/python3.11/site-packages (from pexpect>4.3->ipython>=6.1.0->ipywidgets) (0.7.0)\n",
      "Requirement already satisfied: wcwidth in /root/MultilingualSummarizerAgenticRAGLLM/final/lib/python3.11/site-packages (from prompt_toolkit<3.1.0,>=3.0.41->ipython>=6.1.0->ipywidgets) (0.2.13)\n",
      "Requirement already satisfied: executing>=1.2.0 in /root/MultilingualSummarizerAgenticRAGLLM/final/lib/python3.11/site-packages (from stack_data->ipython>=6.1.0->ipywidgets) (2.2.0)\n",
      "Requirement already satisfied: asttokens>=2.1.0 in /root/MultilingualSummarizerAgenticRAGLLM/final/lib/python3.11/site-packages (from stack_data->ipython>=6.1.0->ipywidgets) (3.0.0)\n",
      "Requirement already satisfied: pure-eval in /root/MultilingualSummarizerAgenticRAGLLM/final/lib/python3.11/site-packages (from stack_data->ipython>=6.1.0->ipywidgets) (0.2.3)\n",
      "Note: you may need to restart the kernel to use updated packages.\n",
      "Requirement already satisfied: transformers in /root/MultilingualSummarizerAgenticRAGLLM/final/lib/python3.11/site-packages (4.48.1)\n",
      "Requirement already satisfied: accelerate in /root/MultilingualSummarizerAgenticRAGLLM/final/lib/python3.11/site-packages (1.3.0)\n",
      "Requirement already satisfied: evaluate in /root/MultilingualSummarizerAgenticRAGLLM/final/lib/python3.11/site-packages (0.4.3)\n",
      "Requirement already satisfied: jiwer in /root/MultilingualSummarizerAgenticRAGLLM/final/lib/python3.11/site-packages (3.0.5)\n",
      "Requirement already satisfied: tensorboard in /root/MultilingualSummarizerAgenticRAGLLM/final/lib/python3.11/site-packages (2.18.0)\n",
      "Requirement already satisfied: gradio in /root/MultilingualSummarizerAgenticRAGLLM/final/lib/python3.11/site-packages (5.13.1)\n",
      "Requirement already satisfied: datasets[audio] in /root/MultilingualSummarizerAgenticRAGLLM/final/lib/python3.11/site-packages (3.2.0)\n",
      "Requirement already satisfied: filelock in /root/MultilingualSummarizerAgenticRAGLLM/final/lib/python3.11/site-packages (from datasets[audio]) (3.17.0)\n",
      "Requirement already satisfied: numpy>=1.17 in /root/MultilingualSummarizerAgenticRAGLLM/final/lib/python3.11/site-packages (from datasets[audio]) (2.1.3)\n",
      "Requirement already satisfied: pyarrow>=15.0.0 in /root/MultilingualSummarizerAgenticRAGLLM/final/lib/python3.11/site-packages (from datasets[audio]) (19.0.0)\n",
      "Requirement already satisfied: dill<0.3.9,>=0.3.0 in /root/MultilingualSummarizerAgenticRAGLLM/final/lib/python3.11/site-packages (from datasets[audio]) (0.3.8)\n",
      "Requirement already satisfied: pandas in /root/MultilingualSummarizerAgenticRAGLLM/final/lib/python3.11/site-packages (from datasets[audio]) (2.2.3)\n",
      "Requirement already satisfied: requests>=2.32.2 in /root/MultilingualSummarizerAgenticRAGLLM/final/lib/python3.11/site-packages (from datasets[audio]) (2.32.3)\n",
      "Requirement already satisfied: tqdm>=4.66.3 in /root/MultilingualSummarizerAgenticRAGLLM/final/lib/python3.11/site-packages (from datasets[audio]) (4.67.1)\n",
      "Requirement already satisfied: xxhash in /root/MultilingualSummarizerAgenticRAGLLM/final/lib/python3.11/site-packages (from datasets[audio]) (3.5.0)\n",
      "Requirement already satisfied: multiprocess<0.70.17 in /root/MultilingualSummarizerAgenticRAGLLM/final/lib/python3.11/site-packages (from datasets[audio]) (0.70.16)\n",
      "Requirement already satisfied: fsspec<=2024.9.0,>=2023.1.0 in /root/MultilingualSummarizerAgenticRAGLLM/final/lib/python3.11/site-packages (from fsspec[http]<=2024.9.0,>=2023.1.0->datasets[audio]) (2024.9.0)\n",
      "Requirement already satisfied: aiohttp in /root/MultilingualSummarizerAgenticRAGLLM/final/lib/python3.11/site-packages (from datasets[audio]) (3.11.11)\n",
      "Requirement already satisfied: huggingface-hub>=0.23.0 in /root/MultilingualSummarizerAgenticRAGLLM/final/lib/python3.11/site-packages (from datasets[audio]) (0.27.1)\n",
      "Requirement already satisfied: packaging in /root/MultilingualSummarizerAgenticRAGLLM/final/lib/python3.11/site-packages (from datasets[audio]) (24.2)\n",
      "Requirement already satisfied: pyyaml>=5.1 in /root/MultilingualSummarizerAgenticRAGLLM/final/lib/python3.11/site-packages (from datasets[audio]) (6.0.2)\n",
      "Requirement already satisfied: soundfile>=0.12.1 in /root/MultilingualSummarizerAgenticRAGLLM/final/lib/python3.11/site-packages (from datasets[audio]) (0.13.1)\n",
      "Requirement already satisfied: librosa in /root/MultilingualSummarizerAgenticRAGLLM/final/lib/python3.11/site-packages (from datasets[audio]) (0.10.2.post1)\n",
      "Requirement already satisfied: soxr>=0.4.0 in /root/MultilingualSummarizerAgenticRAGLLM/final/lib/python3.11/site-packages (from datasets[audio]) (0.5.0.post1)\n",
      "Requirement already satisfied: regex!=2019.12.17 in /root/MultilingualSummarizerAgenticRAGLLM/final/lib/python3.11/site-packages (from transformers) (2024.11.6)\n",
      "Requirement already satisfied: tokenizers<0.22,>=0.21 in /root/MultilingualSummarizerAgenticRAGLLM/final/lib/python3.11/site-packages (from transformers) (0.21.0)\n",
      "Requirement already satisfied: safetensors>=0.4.1 in /root/MultilingualSummarizerAgenticRAGLLM/final/lib/python3.11/site-packages (from transformers) (0.5.2)\n",
      "Requirement already satisfied: psutil in /root/MultilingualSummarizerAgenticRAGLLM/final/lib/python3.11/site-packages (from accelerate) (6.1.1)\n",
      "Requirement already satisfied: torch>=2.0.0 in /root/MultilingualSummarizerAgenticRAGLLM/final/lib/python3.11/site-packages (from accelerate) (2.5.1)\n",
      "Requirement already satisfied: click<9.0.0,>=8.1.3 in /root/MultilingualSummarizerAgenticRAGLLM/final/lib/python3.11/site-packages (from jiwer) (8.1.8)\n",
      "Requirement already satisfied: rapidfuzz<4,>=3 in /root/MultilingualSummarizerAgenticRAGLLM/final/lib/python3.11/site-packages (from jiwer) (3.11.0)\n",
      "Requirement already satisfied: absl-py>=0.4 in /root/MultilingualSummarizerAgenticRAGLLM/final/lib/python3.11/site-packages (from tensorboard) (2.1.0)\n",
      "Requirement already satisfied: grpcio>=1.48.2 in /root/MultilingualSummarizerAgenticRAGLLM/final/lib/python3.11/site-packages (from tensorboard) (1.70.0)\n",
      "Requirement already satisfied: markdown>=2.6.8 in /root/MultilingualSummarizerAgenticRAGLLM/final/lib/python3.11/site-packages (from tensorboard) (3.7)\n",
      "Requirement already satisfied: protobuf!=4.24.0,>=3.19.6 in /root/MultilingualSummarizerAgenticRAGLLM/final/lib/python3.11/site-packages (from tensorboard) (5.29.3)\n",
      "Requirement already satisfied: setuptools>=41.0.0 in /root/MultilingualSummarizerAgenticRAGLLM/final/lib/python3.11/site-packages (from tensorboard) (65.5.0)\n",
      "Requirement already satisfied: six>1.9 in /root/MultilingualSummarizerAgenticRAGLLM/final/lib/python3.11/site-packages (from tensorboard) (1.17.0)\n",
      "Requirement already satisfied: tensorboard-data-server<0.8.0,>=0.7.0 in /root/MultilingualSummarizerAgenticRAGLLM/final/lib/python3.11/site-packages (from tensorboard) (0.7.2)\n",
      "Requirement already satisfied: werkzeug>=1.0.1 in /root/MultilingualSummarizerAgenticRAGLLM/final/lib/python3.11/site-packages (from tensorboard) (3.1.3)\n",
      "Requirement already satisfied: aiofiles<24.0,>=22.0 in /root/MultilingualSummarizerAgenticRAGLLM/final/lib/python3.11/site-packages (from gradio) (23.2.1)\n",
      "Requirement already satisfied: anyio<5.0,>=3.0 in /root/MultilingualSummarizerAgenticRAGLLM/final/lib/python3.11/site-packages (from gradio) (4.8.0)\n",
      "Requirement already satisfied: fastapi<1.0,>=0.115.2 in /root/MultilingualSummarizerAgenticRAGLLM/final/lib/python3.11/site-packages (from gradio) (0.115.7)\n",
      "Requirement already satisfied: ffmpy in /root/MultilingualSummarizerAgenticRAGLLM/final/lib/python3.11/site-packages (from gradio) (0.5.0)\n",
      "Requirement already satisfied: gradio-client==1.6.0 in /root/MultilingualSummarizerAgenticRAGLLM/final/lib/python3.11/site-packages (from gradio) (1.6.0)\n",
      "Requirement already satisfied: httpx>=0.24.1 in /root/MultilingualSummarizerAgenticRAGLLM/final/lib/python3.11/site-packages (from gradio) (0.28.1)\n",
      "Requirement already satisfied: jinja2<4.0 in /root/MultilingualSummarizerAgenticRAGLLM/final/lib/python3.11/site-packages (from gradio) (3.1.5)\n",
      "Requirement already satisfied: markupsafe~=2.0 in /root/MultilingualSummarizerAgenticRAGLLM/final/lib/python3.11/site-packages (from gradio) (2.1.5)\n",
      "Requirement already satisfied: orjson~=3.0 in /root/MultilingualSummarizerAgenticRAGLLM/final/lib/python3.11/site-packages (from gradio) (3.10.15)\n",
      "Requirement already satisfied: pillow<12.0,>=8.0 in /root/MultilingualSummarizerAgenticRAGLLM/final/lib/python3.11/site-packages (from gradio) (11.1.0)\n",
      "Requirement already satisfied: pydantic>=2.0 in /root/MultilingualSummarizerAgenticRAGLLM/final/lib/python3.11/site-packages (from gradio) (2.10.6)\n",
      "Requirement already satisfied: pydub in /root/MultilingualSummarizerAgenticRAGLLM/final/lib/python3.11/site-packages (from gradio) (0.25.1)\n",
      "Requirement already satisfied: python-multipart>=0.0.18 in /root/MultilingualSummarizerAgenticRAGLLM/final/lib/python3.11/site-packages (from gradio) (0.0.20)\n",
      "Requirement already satisfied: ruff>=0.2.2 in /root/MultilingualSummarizerAgenticRAGLLM/final/lib/python3.11/site-packages (from gradio) (0.9.3)\n",
      "Requirement already satisfied: safehttpx<0.2.0,>=0.1.6 in /root/MultilingualSummarizerAgenticRAGLLM/final/lib/python3.11/site-packages (from gradio) (0.1.6)\n",
      "Requirement already satisfied: semantic-version~=2.0 in /root/MultilingualSummarizerAgenticRAGLLM/final/lib/python3.11/site-packages (from gradio) (2.10.0)\n",
      "Requirement already satisfied: starlette<1.0,>=0.40.0 in /root/MultilingualSummarizerAgenticRAGLLM/final/lib/python3.11/site-packages (from gradio) (0.45.3)\n",
      "Requirement already satisfied: tomlkit<0.14.0,>=0.12.0 in /root/MultilingualSummarizerAgenticRAGLLM/final/lib/python3.11/site-packages (from gradio) (0.13.2)\n",
      "Requirement already satisfied: typer<1.0,>=0.12 in /root/MultilingualSummarizerAgenticRAGLLM/final/lib/python3.11/site-packages (from gradio) (0.15.1)\n",
      "Requirement already satisfied: typing-extensions~=4.0 in /root/MultilingualSummarizerAgenticRAGLLM/final/lib/python3.11/site-packages (from gradio) (4.12.2)\n",
      "Requirement already satisfied: uvicorn>=0.14.0 in /root/MultilingualSummarizerAgenticRAGLLM/final/lib/python3.11/site-packages (from gradio) (0.34.0)\n",
      "Requirement already satisfied: websockets<15.0,>=10.0 in /root/MultilingualSummarizerAgenticRAGLLM/final/lib/python3.11/site-packages (from gradio-client==1.6.0->gradio) (14.2)\n",
      "Requirement already satisfied: idna>=2.8 in /root/MultilingualSummarizerAgenticRAGLLM/final/lib/python3.11/site-packages (from anyio<5.0,>=3.0->gradio) (3.10)\n",
      "Requirement already satisfied: sniffio>=1.1 in /root/MultilingualSummarizerAgenticRAGLLM/final/lib/python3.11/site-packages (from anyio<5.0,>=3.0->gradio) (1.3.1)\n",
      "Requirement already satisfied: aiohappyeyeballs>=2.3.0 in /root/MultilingualSummarizerAgenticRAGLLM/final/lib/python3.11/site-packages (from aiohttp->datasets[audio]) (2.4.4)\n",
      "Requirement already satisfied: aiosignal>=1.1.2 in /root/MultilingualSummarizerAgenticRAGLLM/final/lib/python3.11/site-packages (from aiohttp->datasets[audio]) (1.3.2)\n",
      "Requirement already satisfied: attrs>=17.3.0 in /root/MultilingualSummarizerAgenticRAGLLM/final/lib/python3.11/site-packages (from aiohttp->datasets[audio]) (25.1.0)\n",
      "Requirement already satisfied: frozenlist>=1.1.1 in /root/MultilingualSummarizerAgenticRAGLLM/final/lib/python3.11/site-packages (from aiohttp->datasets[audio]) (1.5.0)\n",
      "Requirement already satisfied: multidict<7.0,>=4.5 in /root/MultilingualSummarizerAgenticRAGLLM/final/lib/python3.11/site-packages (from aiohttp->datasets[audio]) (6.1.0)\n",
      "Requirement already satisfied: propcache>=0.2.0 in /root/MultilingualSummarizerAgenticRAGLLM/final/lib/python3.11/site-packages (from aiohttp->datasets[audio]) (0.2.1)\n",
      "Requirement already satisfied: yarl<2.0,>=1.17.0 in /root/MultilingualSummarizerAgenticRAGLLM/final/lib/python3.11/site-packages (from aiohttp->datasets[audio]) (1.18.3)\n",
      "Requirement already satisfied: certifi in /root/MultilingualSummarizerAgenticRAGLLM/final/lib/python3.11/site-packages (from httpx>=0.24.1->gradio) (2024.12.14)\n",
      "Requirement already satisfied: httpcore==1.* in /root/MultilingualSummarizerAgenticRAGLLM/final/lib/python3.11/site-packages (from httpx>=0.24.1->gradio) (1.0.7)\n",
      "Requirement already satisfied: h11<0.15,>=0.13 in /root/MultilingualSummarizerAgenticRAGLLM/final/lib/python3.11/site-packages (from httpcore==1.*->httpx>=0.24.1->gradio) (0.14.0)\n",
      "Requirement already satisfied: python-dateutil>=2.8.2 in /root/MultilingualSummarizerAgenticRAGLLM/final/lib/python3.11/site-packages (from pandas->datasets[audio]) (2.9.0.post0)\n",
      "Requirement already satisfied: pytz>=2020.1 in /root/MultilingualSummarizerAgenticRAGLLM/final/lib/python3.11/site-packages (from pandas->datasets[audio]) (2024.2)\n",
      "Requirement already satisfied: tzdata>=2022.7 in /root/MultilingualSummarizerAgenticRAGLLM/final/lib/python3.11/site-packages (from pandas->datasets[audio]) (2025.1)\n",
      "Requirement already satisfied: annotated-types>=0.6.0 in /root/MultilingualSummarizerAgenticRAGLLM/final/lib/python3.11/site-packages (from pydantic>=2.0->gradio) (0.7.0)\n",
      "Requirement already satisfied: pydantic-core==2.27.2 in /root/MultilingualSummarizerAgenticRAGLLM/final/lib/python3.11/site-packages (from pydantic>=2.0->gradio) (2.27.2)\n",
      "Requirement already satisfied: charset-normalizer<4,>=2 in /root/MultilingualSummarizerAgenticRAGLLM/final/lib/python3.11/site-packages (from requests>=2.32.2->datasets[audio]) (3.4.1)\n",
      "Requirement already satisfied: urllib3<3,>=1.21.1 in /root/MultilingualSummarizerAgenticRAGLLM/final/lib/python3.11/site-packages (from requests>=2.32.2->datasets[audio]) (2.3.0)\n",
      "Requirement already satisfied: cffi>=1.0 in /root/MultilingualSummarizerAgenticRAGLLM/final/lib/python3.11/site-packages (from soundfile>=0.12.1->datasets[audio]) (1.17.1)\n",
      "Requirement already satisfied: networkx in /root/MultilingualSummarizerAgenticRAGLLM/final/lib/python3.11/site-packages (from torch>=2.0.0->accelerate) (3.4.2)\n",
      "Requirement already satisfied: nvidia-cuda-nvrtc-cu12==12.4.127 in /root/MultilingualSummarizerAgenticRAGLLM/final/lib/python3.11/site-packages (from torch>=2.0.0->accelerate) (12.4.127)\n",
      "Requirement already satisfied: nvidia-cuda-runtime-cu12==12.4.127 in /root/MultilingualSummarizerAgenticRAGLLM/final/lib/python3.11/site-packages (from torch>=2.0.0->accelerate) (12.4.127)\n",
      "Requirement already satisfied: nvidia-cuda-cupti-cu12==12.4.127 in /root/MultilingualSummarizerAgenticRAGLLM/final/lib/python3.11/site-packages (from torch>=2.0.0->accelerate) (12.4.127)\n",
      "Requirement already satisfied: nvidia-cudnn-cu12==9.1.0.70 in /root/MultilingualSummarizerAgenticRAGLLM/final/lib/python3.11/site-packages (from torch>=2.0.0->accelerate) (9.1.0.70)\n",
      "Requirement already satisfied: nvidia-cublas-cu12==12.4.5.8 in /root/MultilingualSummarizerAgenticRAGLLM/final/lib/python3.11/site-packages (from torch>=2.0.0->accelerate) (12.4.5.8)\n",
      "Requirement already satisfied: nvidia-cufft-cu12==11.2.1.3 in /root/MultilingualSummarizerAgenticRAGLLM/final/lib/python3.11/site-packages (from torch>=2.0.0->accelerate) (11.2.1.3)\n",
      "Requirement already satisfied: nvidia-curand-cu12==10.3.5.147 in /root/MultilingualSummarizerAgenticRAGLLM/final/lib/python3.11/site-packages (from torch>=2.0.0->accelerate) (10.3.5.147)\n",
      "Requirement already satisfied: nvidia-cusolver-cu12==11.6.1.9 in /root/MultilingualSummarizerAgenticRAGLLM/final/lib/python3.11/site-packages (from torch>=2.0.0->accelerate) (11.6.1.9)\n",
      "Requirement already satisfied: nvidia-cusparse-cu12==12.3.1.170 in /root/MultilingualSummarizerAgenticRAGLLM/final/lib/python3.11/site-packages (from torch>=2.0.0->accelerate) (12.3.1.170)\n",
      "Requirement already satisfied: nvidia-nccl-cu12==2.21.5 in /root/MultilingualSummarizerAgenticRAGLLM/final/lib/python3.11/site-packages (from torch>=2.0.0->accelerate) (2.21.5)\n",
      "Requirement already satisfied: nvidia-nvtx-cu12==12.4.127 in /root/MultilingualSummarizerAgenticRAGLLM/final/lib/python3.11/site-packages (from torch>=2.0.0->accelerate) (12.4.127)\n",
      "Requirement already satisfied: nvidia-nvjitlink-cu12==12.4.127 in /root/MultilingualSummarizerAgenticRAGLLM/final/lib/python3.11/site-packages (from torch>=2.0.0->accelerate) (12.4.127)\n",
      "Requirement already satisfied: triton==3.1.0 in /root/MultilingualSummarizerAgenticRAGLLM/final/lib/python3.11/site-packages (from torch>=2.0.0->accelerate) (3.1.0)\n",
      "Requirement already satisfied: sympy==1.13.1 in /root/MultilingualSummarizerAgenticRAGLLM/final/lib/python3.11/site-packages (from torch>=2.0.0->accelerate) (1.13.1)\n",
      "Requirement already satisfied: mpmath<1.4,>=1.1.0 in /root/MultilingualSummarizerAgenticRAGLLM/final/lib/python3.11/site-packages (from sympy==1.13.1->torch>=2.0.0->accelerate) (1.3.0)\n",
      "Requirement already satisfied: shellingham>=1.3.0 in /root/MultilingualSummarizerAgenticRAGLLM/final/lib/python3.11/site-packages (from typer<1.0,>=0.12->gradio) (1.5.4)\n",
      "Requirement already satisfied: rich>=10.11.0 in /root/MultilingualSummarizerAgenticRAGLLM/final/lib/python3.11/site-packages (from typer<1.0,>=0.12->gradio) (13.9.4)\n",
      "Requirement already satisfied: audioread>=2.1.9 in /root/MultilingualSummarizerAgenticRAGLLM/final/lib/python3.11/site-packages (from librosa->datasets[audio]) (3.0.1)\n",
      "Requirement already satisfied: scipy>=1.2.0 in /root/MultilingualSummarizerAgenticRAGLLM/final/lib/python3.11/site-packages (from librosa->datasets[audio]) (1.15.1)\n",
      "Requirement already satisfied: scikit-learn>=0.20.0 in /root/MultilingualSummarizerAgenticRAGLLM/final/lib/python3.11/site-packages (from librosa->datasets[audio]) (1.6.1)\n",
      "Requirement already satisfied: joblib>=0.14 in /root/MultilingualSummarizerAgenticRAGLLM/final/lib/python3.11/site-packages (from librosa->datasets[audio]) (1.4.2)\n",
      "Requirement already satisfied: decorator>=4.3.0 in /root/MultilingualSummarizerAgenticRAGLLM/final/lib/python3.11/site-packages (from librosa->datasets[audio]) (5.1.1)\n",
      "Requirement already satisfied: numba>=0.51.0 in /root/MultilingualSummarizerAgenticRAGLLM/final/lib/python3.11/site-packages (from librosa->datasets[audio]) (0.61.0)\n",
      "Requirement already satisfied: pooch>=1.1 in /root/MultilingualSummarizerAgenticRAGLLM/final/lib/python3.11/site-packages (from librosa->datasets[audio]) (1.8.2)\n",
      "Requirement already satisfied: lazy-loader>=0.1 in /root/MultilingualSummarizerAgenticRAGLLM/final/lib/python3.11/site-packages (from librosa->datasets[audio]) (0.4)\n",
      "Requirement already satisfied: msgpack>=1.0 in /root/MultilingualSummarizerAgenticRAGLLM/final/lib/python3.11/site-packages (from librosa->datasets[audio]) (1.1.0)\n",
      "Requirement already satisfied: pycparser in /root/MultilingualSummarizerAgenticRAGLLM/final/lib/python3.11/site-packages (from cffi>=1.0->soundfile>=0.12.1->datasets[audio]) (2.22)\n",
      "Requirement already satisfied: llvmlite<0.45,>=0.44.0dev0 in /root/MultilingualSummarizerAgenticRAGLLM/final/lib/python3.11/site-packages (from numba>=0.51.0->librosa->datasets[audio]) (0.44.0)\n",
      "Requirement already satisfied: platformdirs>=2.5.0 in /root/MultilingualSummarizerAgenticRAGLLM/final/lib/python3.11/site-packages (from pooch>=1.1->librosa->datasets[audio]) (4.3.6)\n",
      "Requirement already satisfied: markdown-it-py>=2.2.0 in /root/MultilingualSummarizerAgenticRAGLLM/final/lib/python3.11/site-packages (from rich>=10.11.0->typer<1.0,>=0.12->gradio) (3.0.0)\n",
      "Requirement already satisfied: pygments<3.0.0,>=2.13.0 in /root/MultilingualSummarizerAgenticRAGLLM/final/lib/python3.11/site-packages (from rich>=10.11.0->typer<1.0,>=0.12->gradio) (2.19.1)\n",
      "Requirement already satisfied: threadpoolctl>=3.1.0 in /root/MultilingualSummarizerAgenticRAGLLM/final/lib/python3.11/site-packages (from scikit-learn>=0.20.0->librosa->datasets[audio]) (3.5.0)\n",
      "Requirement already satisfied: mdurl~=0.1 in /root/MultilingualSummarizerAgenticRAGLLM/final/lib/python3.11/site-packages (from markdown-it-py>=2.2.0->rich>=10.11.0->typer<1.0,>=0.12->gradio) (0.1.2)\n",
      "Note: you may need to restart the kernel to use updated packages.\n"
     ]
    }
   ],
   "source": [
    "%pip install --upgrade pip\n",
    "%pip install ipywidgets\n",
    "%pip install --upgrade datasets[audio] transformers accelerate evaluate jiwer tensorboard gradio\n",
    "%pip install --upgrade ipywidgets\n",
    "%pip install notebook\n",
    "%pip install jupyterlab\n",
    "%pip install widgetsnbextension\n"
   ]
  },
  {
   "cell_type": "code",
   "execution_count": 3,
   "metadata": {},
   "outputs": [
    {
     "data": {
      "application/vnd.jupyter.widget-view+json": {
       "model_id": "5e9acd06addd4f1ab4ca3c83fd2fa73d",
       "version_major": 2,
       "version_minor": 0
      },
      "text/plain": [
       "VBox(children=(HTML(value='<center> <img\\nsrc=https://huggingface.co/front/assets/huggingface_logo-noborder.sv…"
      ]
     },
     "metadata": {},
     "output_type": "display_data"
    }
   ],
   "source": [
    "from huggingface_hub import notebook_login\n",
    "\n",
    "notebook_login()"
   ]
  },
  {
   "cell_type": "code",
   "execution_count": null,
   "metadata": {},
   "outputs": [],
   "source": [
    "from datasets import load_dataset, DatasetDict\n",
    "from huggingface_hub import HfFolder\n",
    "from datasets import DownloadConfig\n",
    "\n",
    "# Create a download config with your auth token\n",
    "download_config = DownloadConfig(token=HfFolder.get_token())\n",
    "\n",
    "common_voice = DatasetDict()\n",
    "\n",
    "# Load the dataset with the correct auth configuration\n",
    "common_voice[\"train\"] = load_dataset(\n",
    "    \"mozilla-foundation/common_voice_11_0\",\n",
    "    \"ar\",\n",
    "    split=\"train+validation\",\n",
    "    trust_remote_code=True,\n",
    "    download_config=download_config\n",
    ")\n",
    "\n",
    "common_voice[\"test\"] = load_dataset(\n",
    "    \"mozilla-foundation/common_voice_11_0\",\n",
    "    \"ar\",\n",
    "    split=\"test\",\n",
    "    trust_remote_code=True,\n",
    "    download_config=download_config\n",
    ")\n",
    "\n",
    "print(common_voice)"
   ]
  },
  {
   "cell_type": "code",
   "execution_count": null,
   "metadata": {},
   "outputs": [],
   "source": [
    "common_voice = common_voice.remove_columns([\"accent\", \"age\", \"client_id\", \"down_votes\", \"gender\", \"locale\", \"path\", \"segment\", \"up_votes\"])"
   ]
  },
  {
   "cell_type": "code",
   "execution_count": null,
   "metadata": {},
   "outputs": [],
   "source": [
    "from transformers import WhisperFeatureExtractor\n",
    "\n",
    "feature_extractor = WhisperFeatureExtractor.from_pretrained(\"openai/whisper-small\")"
   ]
  },
  {
   "cell_type": "code",
   "execution_count": null,
   "metadata": {},
   "outputs": [],
   "source": [
    "from transformers import WhisperTokenizer\n",
    "\n",
    "tokenizer = WhisperTokenizer.from_pretrained(\"openai/whisper-small\", language=\"arabic\", task=\"transcribe\")"
   ]
  },
  {
   "cell_type": "code",
   "execution_count": null,
   "metadata": {},
   "outputs": [],
   "source": [
    "input_str = common_voice[\"train\"][0][\"sentence\"]\n",
    "labels = tokenizer(input_str).input_ids\n",
    "decoded_with_special = tokenizer.decode(labels, skip_special_tokens=False)\n",
    "decoded_str = tokenizer.decode(labels, skip_special_tokens=True)\n",
    "\n",
    "print(f\"Input:                 {input_str}\")\n",
    "print(f\"Decoded w/ special:    {decoded_with_special}\")\n",
    "print(f\"Decoded w/out special: {decoded_str}\")\n",
    "print(f\"Are equal:             {input_str == decoded_str}\")"
   ]
  },
  {
   "cell_type": "code",
   "execution_count": null,
   "metadata": {},
   "outputs": [],
   "source": [
    "from transformers import WhisperProcessor\n",
    "\n",
    "processor = WhisperProcessor.from_pretrained(\"openai/whisper-small\", language=\"arabic\", task=\"transcribe\")"
   ]
  },
  {
   "cell_type": "code",
   "execution_count": null,
   "metadata": {},
   "outputs": [],
   "source": [
    "print(common_voice[\"train\"][0])"
   ]
  },
  {
   "cell_type": "code",
   "execution_count": null,
   "metadata": {},
   "outputs": [],
   "source": [
    "from datasets import Audio\n",
    "\n",
    "common_voice = common_voice.cast_column(\"audio\", Audio(sampling_rate=16000))"
   ]
  },
  {
   "cell_type": "code",
   "execution_count": null,
   "metadata": {},
   "outputs": [],
   "source": [
    "print(common_voice[\"train\"][0])"
   ]
  },
  {
   "cell_type": "code",
   "execution_count": null,
   "metadata": {},
   "outputs": [],
   "source": [
    "from transformers import WhisperFeatureExtractor, WhisperTokenizer\n",
    "from functools import partial\n",
    "\n",
    "# Initialize the feature extractor and tokenizer\n",
    "feature_extractor = WhisperFeatureExtractor.from_pretrained(\"openai/whisper-small\")\n",
    "tokenizer = WhisperTokenizer.from_pretrained(\"openai/whisper-small\", language=\"arabic\", task=\"transcribe\")\n",
    "\n",
    "def prepare_dataset(feature_extractor, tokenizer, batch):\n",
    "    # load and resample audio data from 48 to 16kHz\n",
    "    audio = batch[\"audio\"]\n",
    "\n",
    "    # compute log-Mel input features from input audio array \n",
    "    batch[\"input_features\"] = feature_extractor(audio[\"array\"], sampling_rate=audio[\"sampling_rate\"]).input_features[0]\n",
    "\n",
    "    # encode target text to label ids \n",
    "    batch[\"labels\"] = tokenizer(batch[\"sentence\"]).input_ids\n",
    "    return batch\n",
    "\n",
    "# Create a partial function with the feature_extractor and tokenizer\n",
    "prepare_dataset_with_deps = partial(prepare_dataset, feature_extractor, tokenizer)\n",
    "\n",
    "# Now map the dataset using the partial function\n",
    "common_voice = common_voice.map(\n",
    "    prepare_dataset_with_deps, \n",
    "    remove_columns=common_voice.column_names[\"train\"], \n",
    "    num_proc=4\n",
    ")"
   ]
  },
  {
   "cell_type": "code",
   "execution_count": null,
   "metadata": {},
   "outputs": [],
   "source": [
    "from transformers import WhisperForConditionalGeneration\n",
    "\n",
    "model = WhisperForConditionalGeneration.from_pretrained(\"openai/whisper-small\")"
   ]
  },
  {
   "cell_type": "code",
   "execution_count": null,
   "metadata": {},
   "outputs": [],
   "source": [
    "model.generation_config.language = \"arabic\"\n",
    "model.generation_config.task = \"transcribe\"\n",
    "\n",
    "model.generation_config.forced_decoder_ids = None"
   ]
  },
  {
   "cell_type": "code",
   "execution_count": null,
   "metadata": {},
   "outputs": [],
   "source": [
    "import torch\n",
    "\n",
    "from dataclasses import dataclass\n",
    "from typing import Any, Dict, List, Union\n",
    "\n",
    "@dataclass\n",
    "class DataCollatorSpeechSeq2SeqWithPadding:\n",
    "    processor: Any\n",
    "    decoder_start_token_id: int\n",
    "\n",
    "    def __call__(self, features: List[Dict[str, Union[List[int], torch.Tensor]]]) -> Dict[str, torch.Tensor]:\n",
    "        # split inputs and labels since they have to be of different lengths and need different padding methods\n",
    "        # first treat the audio inputs by simply returning torch tensors\n",
    "        input_features = [{\"input_features\": feature[\"input_features\"]} for feature in features]\n",
    "        batch = self.processor.feature_extractor.pad(input_features, return_tensors=\"pt\")\n",
    "\n",
    "        # get the tokenized label sequences\n",
    "        label_features = [{\"input_ids\": feature[\"labels\"]} for feature in features]\n",
    "        # pad the labels to max length\n",
    "        labels_batch = self.processor.tokenizer.pad(label_features, return_tensors=\"pt\")\n",
    "\n",
    "        # replace padding with -100 to ignore loss correctly\n",
    "        labels = labels_batch[\"input_ids\"].masked_fill(labels_batch.attention_mask.ne(1), -100)\n",
    "\n",
    "        # if bos token is appended in previous tokenization step,\n",
    "        # cut bos token here as it's append later anyways\n",
    "        if (labels[:, 0] == self.decoder_start_token_id).all().cpu().item():\n",
    "            labels = labels[:, 1:]\n",
    "\n",
    "        batch[\"labels\"] = labels\n",
    "\n",
    "        return batch"
   ]
  },
  {
   "cell_type": "code",
   "execution_count": null,
   "metadata": {},
   "outputs": [],
   "source": [
    "data_collator = DataCollatorSpeechSeq2SeqWithPadding(\n",
    "    processor=processor,\n",
    "    decoder_start_token_id=model.config.decoder_start_token_id,\n",
    ")"
   ]
  },
  {
   "cell_type": "code",
   "execution_count": null,
   "metadata": {},
   "outputs": [],
   "source": [
    "import evaluate\n",
    "\n",
    "metric = evaluate.load(\"wer\")"
   ]
  },
  {
   "cell_type": "code",
   "execution_count": null,
   "metadata": {},
   "outputs": [],
   "source": [
    "def compute_metrics(pred):\n",
    "    pred_ids = pred.predictions\n",
    "    label_ids = pred.label_ids\n",
    "\n",
    "    # replace -100 with the pad_token_id\n",
    "    label_ids[label_ids == -100] = tokenizer.pad_token_id\n",
    "\n",
    "    # we do not want to group tokens when computing the metrics\n",
    "    pred_str = tokenizer.batch_decode(pred_ids, skip_special_tokens=True)\n",
    "    label_str = tokenizer.batch_decode(label_ids, skip_special_tokens=True)\n",
    "\n",
    "    wer = 100 * metric.compute(predictions=pred_str, references=label_str)\n",
    "\n",
    "    return {\"wer\": wer}"
   ]
  },
  {
   "cell_type": "code",
   "execution_count": null,
   "metadata": {},
   "outputs": [],
   "source": [
    "from transformers import Seq2SeqTrainingArguments\n",
    "\n",
    "training_args = Seq2SeqTrainingArguments(\n",
    "    output_dir=\"./whisper-small-arabic\",  # change to a repo name of your choice\n",
    "    per_device_train_batch_size=16,\n",
    "    gradient_accumulation_steps=1,  # increase by 2x for every 2x decrease in batch size\n",
    "    learning_rate=1e-5,\n",
    "    warmup_steps=500,\n",
    "    max_steps=5000,\n",
    "    gradient_checkpointing=True,\n",
    "    fp16=True,\n",
    "    evaluation_strategy=\"steps\",\n",
    "    per_device_eval_batch_size=8,\n",
    "    predict_with_generate=True,\n",
    "    generation_max_length=225,\n",
    "    save_steps=1000,\n",
    "    eval_steps=1000,\n",
    "    logging_steps=25,\n",
    "    report_to=[\"tensorboard\"],\n",
    "    load_best_model_at_end=True,\n",
    "    metric_for_best_model=\"wer\",\n",
    "    greater_is_better=False,\n",
    "    push_to_hub=True,\n",
    ")"
   ]
  },
  {
   "cell_type": "code",
   "execution_count": null,
   "metadata": {},
   "outputs": [],
   "source": [
    "from transformers import Seq2SeqTrainer\n",
    "\n",
    "trainer = Seq2SeqTrainer(\n",
    "    args=training_args,\n",
    "    model=model,\n",
    "    train_dataset=common_voice[\"train\"],\n",
    "    eval_dataset=common_voice[\"test\"],\n",
    "    data_collator=data_collator,\n",
    "    compute_metrics=compute_metrics,\n",
    "    tokenizer=processor.feature_extractor,\n",
    ")"
   ]
  },
  {
   "cell_type": "code",
   "execution_count": null,
   "metadata": {},
   "outputs": [],
   "source": [
    "trainer.train()"
   ]
  },
  {
   "cell_type": "code",
   "execution_count": null,
   "metadata": {},
   "outputs": [],
   "source": [
    "kwargs = {\n",
    "    \"dataset_tags\": \"mozilla-foundation/common_voice_11_0\",\n",
    "    \"dataset\": \"Common Voice 11.0\",  # a 'pretty' name for the training dataset\n",
    "    \"dataset_args\": \"config: ar, split: test\",\n",
    "    \"language\": \"ar\",\n",
    "    \"model_name\": \"Whisper Small Arabic - Fine-tuned\",  # a 'pretty' name for your model\n",
    "    \"finetuned_from\": \"openai/whisper-small\",\n",
    "    \"tasks\": \"automatic-speech-recognition\",\n",
    "}"
   ]
  },
  {
   "cell_type": "code",
   "execution_count": null,
   "metadata": {},
   "outputs": [],
   "source": [
    "trainer.push_to_hub(**kwargs)"
   ]
  },
  {
   "cell_type": "code",
   "execution_count": null,
   "metadata": {},
   "outputs": [],
   "source": [
    "from transformers import WhisperForConditionalGeneration, WhisperProcessor\n",
    "\n",
    "model = WhisperForConditionalGeneration.from_pretrained(\"humbleakh/whisper-small-ar\")\n",
    "processor = WhisperProcessor.from_pretrained(\"humbleakh/whisper-small-ar\")\n"
   ]
  },
  {
   "cell_type": "code",
   "execution_count": null,
   "metadata": {},
   "outputs": [],
   "source": [
    "from transformers import pipeline\n",
    "import gradio as gr\n",
    "\n",
    "pipe = pipeline(model=\"humbleakh/whisper-small-ar\")  # change to \"your-username/the-name-you-picked\"\n",
    "\n",
    "def transcribe(audio):\n",
    "    text = pipe(audio)[\"text\"]  \n",
    "    return text\n",
    "\n",
    "iface = gr.Interface(\n",
    "    fn=transcribe, \n",
    "    inputs=gr.Audio(source=\"microphone\", type=\"filepath\"), \n",
    "    outputs=\"text\",\n",
    "    title=\"Whisper Small Arabic\",\n",
    "    description=\"Realtime demo for Arabic speech recognition using a fine-tuned Whisper small model.\",\n",
    ")\n",
    "\n",
    "iface.launch()\n"
   ]
  },
  {
   "cell_type": "code",
   "execution_count": null,
   "metadata": {},
   "outputs": [],
   "source": []
  },
  {
   "cell_type": "code",
   "execution_count": null,
   "metadata": {},
   "outputs": [],
   "source": []
  },
  {
   "cell_type": "code",
   "execution_count": null,
   "metadata": {},
   "outputs": [],
   "source": []
  },
  {
   "cell_type": "code",
   "execution_count": null,
   "metadata": {},
   "outputs": [],
   "source": []
  },
  {
   "cell_type": "code",
   "execution_count": null,
   "metadata": {},
   "outputs": [],
   "source": []
  }
 ],
 "metadata": {
  "kernelspec": {
   "display_name": "final",
   "language": "python",
   "name": "python3"
  },
  "language_info": {
   "codemirror_mode": {
    "name": "ipython",
    "version": 3
   },
   "file_extension": ".py",
   "mimetype": "text/x-python",
   "name": "python",
   "nbconvert_exporter": "python",
   "pygments_lexer": "ipython3",
   "version": "3.11.10"
  }
 },
 "nbformat": 4,
 "nbformat_minor": 2
}
