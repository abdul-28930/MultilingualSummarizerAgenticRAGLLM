{
 "cells": [
  {
   "cell_type": "code",
   "execution_count": 2,
   "metadata": {},
   "outputs": [
    {
     "name": "stdout",
     "output_type": "stream",
     "text": [
      "Requirement already satisfied: pip in /root/MultilingualSummarizerAgenticRAGLLM/final/lib/python3.11/site-packages (25.0)\n"
     ]
    },
    {
     "name": "stdout",
     "output_type": "stream",
     "text": [
      "Note: you may need to restart the kernel to use updated packages.\n",
      "Requirement already satisfied: ipywidgets in /root/MultilingualSummarizerAgenticRAGLLM/final/lib/python3.11/site-packages (8.1.5)\n",
      "Requirement already satisfied: comm>=0.1.3 in /root/MultilingualSummarizerAgenticRAGLLM/final/lib/python3.11/site-packages (from ipywidgets) (0.2.2)\n",
      "Requirement already satisfied: ipython>=6.1.0 in /root/MultilingualSummarizerAgenticRAGLLM/final/lib/python3.11/site-packages (from ipywidgets) (8.31.0)\n",
      "Requirement already satisfied: traitlets>=4.3.1 in /root/MultilingualSummarizerAgenticRAGLLM/final/lib/python3.11/site-packages (from ipywidgets) (5.14.3)\n",
      "Requirement already satisfied: widgetsnbextension~=4.0.12 in /root/MultilingualSummarizerAgenticRAGLLM/final/lib/python3.11/site-packages (from ipywidgets) (4.0.13)\n",
      "Requirement already satisfied: jupyterlab-widgets~=3.0.12 in /root/MultilingualSummarizerAgenticRAGLLM/final/lib/python3.11/site-packages (from ipywidgets) (3.0.13)\n",
      "Requirement already satisfied: decorator in /root/MultilingualSummarizerAgenticRAGLLM/final/lib/python3.11/site-packages (from ipython>=6.1.0->ipywidgets) (5.1.1)\n",
      "Requirement already satisfied: jedi>=0.16 in /root/MultilingualSummarizerAgenticRAGLLM/final/lib/python3.11/site-packages (from ipython>=6.1.0->ipywidgets) (0.19.2)\n",
      "Requirement already satisfied: matplotlib-inline in /root/MultilingualSummarizerAgenticRAGLLM/final/lib/python3.11/site-packages (from ipython>=6.1.0->ipywidgets) (0.1.7)\n",
      "Requirement already satisfied: pexpect>4.3 in /root/MultilingualSummarizerAgenticRAGLLM/final/lib/python3.11/site-packages (from ipython>=6.1.0->ipywidgets) (4.9.0)\n",
      "Requirement already satisfied: prompt_toolkit<3.1.0,>=3.0.41 in /root/MultilingualSummarizerAgenticRAGLLM/final/lib/python3.11/site-packages (from ipython>=6.1.0->ipywidgets) (3.0.50)\n",
      "Requirement already satisfied: pygments>=2.4.0 in /root/MultilingualSummarizerAgenticRAGLLM/final/lib/python3.11/site-packages (from ipython>=6.1.0->ipywidgets) (2.19.1)\n",
      "Requirement already satisfied: stack_data in /root/MultilingualSummarizerAgenticRAGLLM/final/lib/python3.11/site-packages (from ipython>=6.1.0->ipywidgets) (0.6.3)\n",
      "Requirement already satisfied: typing_extensions>=4.6 in /root/MultilingualSummarizerAgenticRAGLLM/final/lib/python3.11/site-packages (from ipython>=6.1.0->ipywidgets) (4.12.2)\n",
      "Requirement already satisfied: parso<0.9.0,>=0.8.4 in /root/MultilingualSummarizerAgenticRAGLLM/final/lib/python3.11/site-packages (from jedi>=0.16->ipython>=6.1.0->ipywidgets) (0.8.4)\n",
      "Requirement already satisfied: ptyprocess>=0.5 in /root/MultilingualSummarizerAgenticRAGLLM/final/lib/python3.11/site-packages (from pexpect>4.3->ipython>=6.1.0->ipywidgets) (0.7.0)\n",
      "Requirement already satisfied: wcwidth in /root/MultilingualSummarizerAgenticRAGLLM/final/lib/python3.11/site-packages (from prompt_toolkit<3.1.0,>=3.0.41->ipython>=6.1.0->ipywidgets) (0.2.13)\n",
      "Requirement already satisfied: executing>=1.2.0 in /root/MultilingualSummarizerAgenticRAGLLM/final/lib/python3.11/site-packages (from stack_data->ipython>=6.1.0->ipywidgets) (2.2.0)\n",
      "Requirement already satisfied: asttokens>=2.1.0 in /root/MultilingualSummarizerAgenticRAGLLM/final/lib/python3.11/site-packages (from stack_data->ipython>=6.1.0->ipywidgets) (3.0.0)\n",
      "Requirement already satisfied: pure-eval in /root/MultilingualSummarizerAgenticRAGLLM/final/lib/python3.11/site-packages (from stack_data->ipython>=6.1.0->ipywidgets) (0.2.3)\n",
      "Note: you may need to restart the kernel to use updated packages.\n",
      "Requirement already satisfied: transformers in /root/MultilingualSummarizerAgenticRAGLLM/final/lib/python3.11/site-packages (4.48.1)\n",
      "Requirement already satisfied: accelerate in /root/MultilingualSummarizerAgenticRAGLLM/final/lib/python3.11/site-packages (1.3.0)\n",
      "Requirement already satisfied: evaluate in /root/MultilingualSummarizerAgenticRAGLLM/final/lib/python3.11/site-packages (0.4.3)\n",
      "Requirement already satisfied: jiwer in /root/MultilingualSummarizerAgenticRAGLLM/final/lib/python3.11/site-packages (3.0.5)\n",
      "Requirement already satisfied: tensorboard in /root/MultilingualSummarizerAgenticRAGLLM/final/lib/python3.11/site-packages (2.18.0)\n",
      "Requirement already satisfied: gradio in /root/MultilingualSummarizerAgenticRAGLLM/final/lib/python3.11/site-packages (5.13.1)\n",
      "Requirement already satisfied: datasets[audio] in /root/MultilingualSummarizerAgenticRAGLLM/final/lib/python3.11/site-packages (3.2.0)\n",
      "Requirement already satisfied: filelock in /root/MultilingualSummarizerAgenticRAGLLM/final/lib/python3.11/site-packages (from datasets[audio]) (3.17.0)\n",
      "Requirement already satisfied: numpy>=1.17 in /root/MultilingualSummarizerAgenticRAGLLM/final/lib/python3.11/site-packages (from datasets[audio]) (2.1.3)\n",
      "Requirement already satisfied: pyarrow>=15.0.0 in /root/MultilingualSummarizerAgenticRAGLLM/final/lib/python3.11/site-packages (from datasets[audio]) (19.0.0)\n",
      "Requirement already satisfied: dill<0.3.9,>=0.3.0 in /root/MultilingualSummarizerAgenticRAGLLM/final/lib/python3.11/site-packages (from datasets[audio]) (0.3.8)\n",
      "Requirement already satisfied: pandas in /root/MultilingualSummarizerAgenticRAGLLM/final/lib/python3.11/site-packages (from datasets[audio]) (2.2.3)\n",
      "Requirement already satisfied: requests>=2.32.2 in /root/MultilingualSummarizerAgenticRAGLLM/final/lib/python3.11/site-packages (from datasets[audio]) (2.32.3)\n",
      "Requirement already satisfied: tqdm>=4.66.3 in /root/MultilingualSummarizerAgenticRAGLLM/final/lib/python3.11/site-packages (from datasets[audio]) (4.67.1)\n",
      "Requirement already satisfied: xxhash in /root/MultilingualSummarizerAgenticRAGLLM/final/lib/python3.11/site-packages (from datasets[audio]) (3.5.0)\n",
      "Requirement already satisfied: multiprocess<0.70.17 in /root/MultilingualSummarizerAgenticRAGLLM/final/lib/python3.11/site-packages (from datasets[audio]) (0.70.16)\n",
      "Requirement already satisfied: fsspec<=2024.9.0,>=2023.1.0 in /root/MultilingualSummarizerAgenticRAGLLM/final/lib/python3.11/site-packages (from fsspec[http]<=2024.9.0,>=2023.1.0->datasets[audio]) (2024.9.0)\n",
      "Requirement already satisfied: aiohttp in /root/MultilingualSummarizerAgenticRAGLLM/final/lib/python3.11/site-packages (from datasets[audio]) (3.11.11)\n",
      "Requirement already satisfied: huggingface-hub>=0.23.0 in /root/MultilingualSummarizerAgenticRAGLLM/final/lib/python3.11/site-packages (from datasets[audio]) (0.27.1)\n",
      "Requirement already satisfied: packaging in /root/MultilingualSummarizerAgenticRAGLLM/final/lib/python3.11/site-packages (from datasets[audio]) (24.2)\n",
      "Requirement already satisfied: pyyaml>=5.1 in /root/MultilingualSummarizerAgenticRAGLLM/final/lib/python3.11/site-packages (from datasets[audio]) (6.0.2)\n",
      "Requirement already satisfied: soundfile>=0.12.1 in /root/MultilingualSummarizerAgenticRAGLLM/final/lib/python3.11/site-packages (from datasets[audio]) (0.13.1)\n",
      "Requirement already satisfied: librosa in /root/MultilingualSummarizerAgenticRAGLLM/final/lib/python3.11/site-packages (from datasets[audio]) (0.10.2.post1)\n",
      "Requirement already satisfied: soxr>=0.4.0 in /root/MultilingualSummarizerAgenticRAGLLM/final/lib/python3.11/site-packages (from datasets[audio]) (0.5.0.post1)\n",
      "Requirement already satisfied: regex!=2019.12.17 in /root/MultilingualSummarizerAgenticRAGLLM/final/lib/python3.11/site-packages (from transformers) (2024.11.6)\n",
      "Requirement already satisfied: tokenizers<0.22,>=0.21 in /root/MultilingualSummarizerAgenticRAGLLM/final/lib/python3.11/site-packages (from transformers) (0.21.0)\n",
      "Requirement already satisfied: safetensors>=0.4.1 in /root/MultilingualSummarizerAgenticRAGLLM/final/lib/python3.11/site-packages (from transformers) (0.5.2)\n",
      "Requirement already satisfied: psutil in /root/MultilingualSummarizerAgenticRAGLLM/final/lib/python3.11/site-packages (from accelerate) (6.1.1)\n",
      "Requirement already satisfied: torch>=2.0.0 in /root/MultilingualSummarizerAgenticRAGLLM/final/lib/python3.11/site-packages (from accelerate) (2.5.1)\n",
      "Requirement already satisfied: click<9.0.0,>=8.1.3 in /root/MultilingualSummarizerAgenticRAGLLM/final/lib/python3.11/site-packages (from jiwer) (8.1.8)\n",
      "Requirement already satisfied: rapidfuzz<4,>=3 in /root/MultilingualSummarizerAgenticRAGLLM/final/lib/python3.11/site-packages (from jiwer) (3.11.0)\n",
      "Requirement already satisfied: absl-py>=0.4 in /root/MultilingualSummarizerAgenticRAGLLM/final/lib/python3.11/site-packages (from tensorboard) (2.1.0)\n",
      "Requirement already satisfied: grpcio>=1.48.2 in /root/MultilingualSummarizerAgenticRAGLLM/final/lib/python3.11/site-packages (from tensorboard) (1.70.0)\n",
      "Requirement already satisfied: markdown>=2.6.8 in /root/MultilingualSummarizerAgenticRAGLLM/final/lib/python3.11/site-packages (from tensorboard) (3.7)\n",
      "Requirement already satisfied: protobuf!=4.24.0,>=3.19.6 in /root/MultilingualSummarizerAgenticRAGLLM/final/lib/python3.11/site-packages (from tensorboard) (5.29.3)\n",
      "Requirement already satisfied: setuptools>=41.0.0 in /root/MultilingualSummarizerAgenticRAGLLM/final/lib/python3.11/site-packages (from tensorboard) (65.5.0)\n",
      "Requirement already satisfied: six>1.9 in /root/MultilingualSummarizerAgenticRAGLLM/final/lib/python3.11/site-packages (from tensorboard) (1.17.0)\n",
      "Requirement already satisfied: tensorboard-data-server<0.8.0,>=0.7.0 in /root/MultilingualSummarizerAgenticRAGLLM/final/lib/python3.11/site-packages (from tensorboard) (0.7.2)\n",
      "Requirement already satisfied: werkzeug>=1.0.1 in /root/MultilingualSummarizerAgenticRAGLLM/final/lib/python3.11/site-packages (from tensorboard) (3.1.3)\n",
      "Requirement already satisfied: aiofiles<24.0,>=22.0 in /root/MultilingualSummarizerAgenticRAGLLM/final/lib/python3.11/site-packages (from gradio) (23.2.1)\n",
      "Requirement already satisfied: anyio<5.0,>=3.0 in /root/MultilingualSummarizerAgenticRAGLLM/final/lib/python3.11/site-packages (from gradio) (4.8.0)\n",
      "Requirement already satisfied: fastapi<1.0,>=0.115.2 in /root/MultilingualSummarizerAgenticRAGLLM/final/lib/python3.11/site-packages (from gradio) (0.115.7)\n",
      "Requirement already satisfied: ffmpy in /root/MultilingualSummarizerAgenticRAGLLM/final/lib/python3.11/site-packages (from gradio) (0.5.0)\n",
      "Requirement already satisfied: gradio-client==1.6.0 in /root/MultilingualSummarizerAgenticRAGLLM/final/lib/python3.11/site-packages (from gradio) (1.6.0)\n",
      "Requirement already satisfied: httpx>=0.24.1 in /root/MultilingualSummarizerAgenticRAGLLM/final/lib/python3.11/site-packages (from gradio) (0.28.1)\n",
      "Requirement already satisfied: jinja2<4.0 in /root/MultilingualSummarizerAgenticRAGLLM/final/lib/python3.11/site-packages (from gradio) (3.1.5)\n",
      "Requirement already satisfied: markupsafe~=2.0 in /root/MultilingualSummarizerAgenticRAGLLM/final/lib/python3.11/site-packages (from gradio) (2.1.5)\n",
      "Requirement already satisfied: orjson~=3.0 in /root/MultilingualSummarizerAgenticRAGLLM/final/lib/python3.11/site-packages (from gradio) (3.10.15)\n",
      "Requirement already satisfied: pillow<12.0,>=8.0 in /root/MultilingualSummarizerAgenticRAGLLM/final/lib/python3.11/site-packages (from gradio) (11.1.0)\n",
      "Requirement already satisfied: pydantic>=2.0 in /root/MultilingualSummarizerAgenticRAGLLM/final/lib/python3.11/site-packages (from gradio) (2.10.6)\n",
      "Requirement already satisfied: pydub in /root/MultilingualSummarizerAgenticRAGLLM/final/lib/python3.11/site-packages (from gradio) (0.25.1)\n",
      "Requirement already satisfied: python-multipart>=0.0.18 in /root/MultilingualSummarizerAgenticRAGLLM/final/lib/python3.11/site-packages (from gradio) (0.0.20)\n",
      "Requirement already satisfied: ruff>=0.2.2 in /root/MultilingualSummarizerAgenticRAGLLM/final/lib/python3.11/site-packages (from gradio) (0.9.3)\n",
      "Requirement already satisfied: safehttpx<0.2.0,>=0.1.6 in /root/MultilingualSummarizerAgenticRAGLLM/final/lib/python3.11/site-packages (from gradio) (0.1.6)\n",
      "Requirement already satisfied: semantic-version~=2.0 in /root/MultilingualSummarizerAgenticRAGLLM/final/lib/python3.11/site-packages (from gradio) (2.10.0)\n",
      "Requirement already satisfied: starlette<1.0,>=0.40.0 in /root/MultilingualSummarizerAgenticRAGLLM/final/lib/python3.11/site-packages (from gradio) (0.45.3)\n",
      "Requirement already satisfied: tomlkit<0.14.0,>=0.12.0 in /root/MultilingualSummarizerAgenticRAGLLM/final/lib/python3.11/site-packages (from gradio) (0.13.2)\n",
      "Requirement already satisfied: typer<1.0,>=0.12 in /root/MultilingualSummarizerAgenticRAGLLM/final/lib/python3.11/site-packages (from gradio) (0.15.1)\n",
      "Requirement already satisfied: typing-extensions~=4.0 in /root/MultilingualSummarizerAgenticRAGLLM/final/lib/python3.11/site-packages (from gradio) (4.12.2)\n",
      "Requirement already satisfied: uvicorn>=0.14.0 in /root/MultilingualSummarizerAgenticRAGLLM/final/lib/python3.11/site-packages (from gradio) (0.34.0)\n",
      "Requirement already satisfied: websockets<15.0,>=10.0 in /root/MultilingualSummarizerAgenticRAGLLM/final/lib/python3.11/site-packages (from gradio-client==1.6.0->gradio) (14.2)\n",
      "Requirement already satisfied: idna>=2.8 in /root/MultilingualSummarizerAgenticRAGLLM/final/lib/python3.11/site-packages (from anyio<5.0,>=3.0->gradio) (3.10)\n",
      "Requirement already satisfied: sniffio>=1.1 in /root/MultilingualSummarizerAgenticRAGLLM/final/lib/python3.11/site-packages (from anyio<5.0,>=3.0->gradio) (1.3.1)\n",
      "Requirement already satisfied: aiohappyeyeballs>=2.3.0 in /root/MultilingualSummarizerAgenticRAGLLM/final/lib/python3.11/site-packages (from aiohttp->datasets[audio]) (2.4.4)\n",
      "Requirement already satisfied: aiosignal>=1.1.2 in /root/MultilingualSummarizerAgenticRAGLLM/final/lib/python3.11/site-packages (from aiohttp->datasets[audio]) (1.3.2)\n",
      "Requirement already satisfied: attrs>=17.3.0 in /root/MultilingualSummarizerAgenticRAGLLM/final/lib/python3.11/site-packages (from aiohttp->datasets[audio]) (25.1.0)\n",
      "Requirement already satisfied: frozenlist>=1.1.1 in /root/MultilingualSummarizerAgenticRAGLLM/final/lib/python3.11/site-packages (from aiohttp->datasets[audio]) (1.5.0)\n",
      "Requirement already satisfied: multidict<7.0,>=4.5 in /root/MultilingualSummarizerAgenticRAGLLM/final/lib/python3.11/site-packages (from aiohttp->datasets[audio]) (6.1.0)\n",
      "Requirement already satisfied: propcache>=0.2.0 in /root/MultilingualSummarizerAgenticRAGLLM/final/lib/python3.11/site-packages (from aiohttp->datasets[audio]) (0.2.1)\n",
      "Requirement already satisfied: yarl<2.0,>=1.17.0 in /root/MultilingualSummarizerAgenticRAGLLM/final/lib/python3.11/site-packages (from aiohttp->datasets[audio]) (1.18.3)\n",
      "Requirement already satisfied: certifi in /root/MultilingualSummarizerAgenticRAGLLM/final/lib/python3.11/site-packages (from httpx>=0.24.1->gradio) (2024.12.14)\n",
      "Requirement already satisfied: httpcore==1.* in /root/MultilingualSummarizerAgenticRAGLLM/final/lib/python3.11/site-packages (from httpx>=0.24.1->gradio) (1.0.7)\n",
      "Requirement already satisfied: h11<0.15,>=0.13 in /root/MultilingualSummarizerAgenticRAGLLM/final/lib/python3.11/site-packages (from httpcore==1.*->httpx>=0.24.1->gradio) (0.14.0)\n",
      "Requirement already satisfied: python-dateutil>=2.8.2 in /root/MultilingualSummarizerAgenticRAGLLM/final/lib/python3.11/site-packages (from pandas->datasets[audio]) (2.9.0.post0)\n",
      "Requirement already satisfied: pytz>=2020.1 in /root/MultilingualSummarizerAgenticRAGLLM/final/lib/python3.11/site-packages (from pandas->datasets[audio]) (2024.2)\n",
      "Requirement already satisfied: tzdata>=2022.7 in /root/MultilingualSummarizerAgenticRAGLLM/final/lib/python3.11/site-packages (from pandas->datasets[audio]) (2025.1)\n",
      "Requirement already satisfied: annotated-types>=0.6.0 in /root/MultilingualSummarizerAgenticRAGLLM/final/lib/python3.11/site-packages (from pydantic>=2.0->gradio) (0.7.0)\n",
      "Requirement already satisfied: pydantic-core==2.27.2 in /root/MultilingualSummarizerAgenticRAGLLM/final/lib/python3.11/site-packages (from pydantic>=2.0->gradio) (2.27.2)\n",
      "Requirement already satisfied: charset-normalizer<4,>=2 in /root/MultilingualSummarizerAgenticRAGLLM/final/lib/python3.11/site-packages (from requests>=2.32.2->datasets[audio]) (3.4.1)\n",
      "Requirement already satisfied: urllib3<3,>=1.21.1 in /root/MultilingualSummarizerAgenticRAGLLM/final/lib/python3.11/site-packages (from requests>=2.32.2->datasets[audio]) (2.3.0)\n",
      "Requirement already satisfied: cffi>=1.0 in /root/MultilingualSummarizerAgenticRAGLLM/final/lib/python3.11/site-packages (from soundfile>=0.12.1->datasets[audio]) (1.17.1)\n",
      "Requirement already satisfied: networkx in /root/MultilingualSummarizerAgenticRAGLLM/final/lib/python3.11/site-packages (from torch>=2.0.0->accelerate) (3.4.2)\n",
      "Requirement already satisfied: nvidia-cuda-nvrtc-cu12==12.4.127 in /root/MultilingualSummarizerAgenticRAGLLM/final/lib/python3.11/site-packages (from torch>=2.0.0->accelerate) (12.4.127)\n",
      "Requirement already satisfied: nvidia-cuda-runtime-cu12==12.4.127 in /root/MultilingualSummarizerAgenticRAGLLM/final/lib/python3.11/site-packages (from torch>=2.0.0->accelerate) (12.4.127)\n",
      "Requirement already satisfied: nvidia-cuda-cupti-cu12==12.4.127 in /root/MultilingualSummarizerAgenticRAGLLM/final/lib/python3.11/site-packages (from torch>=2.0.0->accelerate) (12.4.127)\n",
      "Requirement already satisfied: nvidia-cudnn-cu12==9.1.0.70 in /root/MultilingualSummarizerAgenticRAGLLM/final/lib/python3.11/site-packages (from torch>=2.0.0->accelerate) (9.1.0.70)\n",
      "Requirement already satisfied: nvidia-cublas-cu12==12.4.5.8 in /root/MultilingualSummarizerAgenticRAGLLM/final/lib/python3.11/site-packages (from torch>=2.0.0->accelerate) (12.4.5.8)\n",
      "Requirement already satisfied: nvidia-cufft-cu12==11.2.1.3 in /root/MultilingualSummarizerAgenticRAGLLM/final/lib/python3.11/site-packages (from torch>=2.0.0->accelerate) (11.2.1.3)\n",
      "Requirement already satisfied: nvidia-curand-cu12==10.3.5.147 in /root/MultilingualSummarizerAgenticRAGLLM/final/lib/python3.11/site-packages (from torch>=2.0.0->accelerate) (10.3.5.147)\n",
      "Requirement already satisfied: nvidia-cusolver-cu12==11.6.1.9 in /root/MultilingualSummarizerAgenticRAGLLM/final/lib/python3.11/site-packages (from torch>=2.0.0->accelerate) (11.6.1.9)\n",
      "Requirement already satisfied: nvidia-cusparse-cu12==12.3.1.170 in /root/MultilingualSummarizerAgenticRAGLLM/final/lib/python3.11/site-packages (from torch>=2.0.0->accelerate) (12.3.1.170)\n",
      "Requirement already satisfied: nvidia-nccl-cu12==2.21.5 in /root/MultilingualSummarizerAgenticRAGLLM/final/lib/python3.11/site-packages (from torch>=2.0.0->accelerate) (2.21.5)\n",
      "Requirement already satisfied: nvidia-nvtx-cu12==12.4.127 in /root/MultilingualSummarizerAgenticRAGLLM/final/lib/python3.11/site-packages (from torch>=2.0.0->accelerate) (12.4.127)\n",
      "Requirement already satisfied: nvidia-nvjitlink-cu12==12.4.127 in /root/MultilingualSummarizerAgenticRAGLLM/final/lib/python3.11/site-packages (from torch>=2.0.0->accelerate) (12.4.127)\n",
      "Requirement already satisfied: triton==3.1.0 in /root/MultilingualSummarizerAgenticRAGLLM/final/lib/python3.11/site-packages (from torch>=2.0.0->accelerate) (3.1.0)\n",
      "Requirement already satisfied: sympy==1.13.1 in /root/MultilingualSummarizerAgenticRAGLLM/final/lib/python3.11/site-packages (from torch>=2.0.0->accelerate) (1.13.1)\n",
      "Requirement already satisfied: mpmath<1.4,>=1.1.0 in /root/MultilingualSummarizerAgenticRAGLLM/final/lib/python3.11/site-packages (from sympy==1.13.1->torch>=2.0.0->accelerate) (1.3.0)\n",
      "Requirement already satisfied: shellingham>=1.3.0 in /root/MultilingualSummarizerAgenticRAGLLM/final/lib/python3.11/site-packages (from typer<1.0,>=0.12->gradio) (1.5.4)\n",
      "Requirement already satisfied: rich>=10.11.0 in /root/MultilingualSummarizerAgenticRAGLLM/final/lib/python3.11/site-packages (from typer<1.0,>=0.12->gradio) (13.9.4)\n",
      "Requirement already satisfied: audioread>=2.1.9 in /root/MultilingualSummarizerAgenticRAGLLM/final/lib/python3.11/site-packages (from librosa->datasets[audio]) (3.0.1)\n",
      "Requirement already satisfied: scipy>=1.2.0 in /root/MultilingualSummarizerAgenticRAGLLM/final/lib/python3.11/site-packages (from librosa->datasets[audio]) (1.15.1)\n",
      "Requirement already satisfied: scikit-learn>=0.20.0 in /root/MultilingualSummarizerAgenticRAGLLM/final/lib/python3.11/site-packages (from librosa->datasets[audio]) (1.6.1)\n",
      "Requirement already satisfied: joblib>=0.14 in /root/MultilingualSummarizerAgenticRAGLLM/final/lib/python3.11/site-packages (from librosa->datasets[audio]) (1.4.2)\n",
      "Requirement already satisfied: decorator>=4.3.0 in /root/MultilingualSummarizerAgenticRAGLLM/final/lib/python3.11/site-packages (from librosa->datasets[audio]) (5.1.1)\n",
      "Requirement already satisfied: numba>=0.51.0 in /root/MultilingualSummarizerAgenticRAGLLM/final/lib/python3.11/site-packages (from librosa->datasets[audio]) (0.61.0)\n",
      "Requirement already satisfied: pooch>=1.1 in /root/MultilingualSummarizerAgenticRAGLLM/final/lib/python3.11/site-packages (from librosa->datasets[audio]) (1.8.2)\n",
      "Requirement already satisfied: lazy-loader>=0.1 in /root/MultilingualSummarizerAgenticRAGLLM/final/lib/python3.11/site-packages (from librosa->datasets[audio]) (0.4)\n",
      "Requirement already satisfied: msgpack>=1.0 in /root/MultilingualSummarizerAgenticRAGLLM/final/lib/python3.11/site-packages (from librosa->datasets[audio]) (1.1.0)\n",
      "Requirement already satisfied: pycparser in /root/MultilingualSummarizerAgenticRAGLLM/final/lib/python3.11/site-packages (from cffi>=1.0->soundfile>=0.12.1->datasets[audio]) (2.22)\n",
      "Requirement already satisfied: llvmlite<0.45,>=0.44.0dev0 in /root/MultilingualSummarizerAgenticRAGLLM/final/lib/python3.11/site-packages (from numba>=0.51.0->librosa->datasets[audio]) (0.44.0)\n",
      "Requirement already satisfied: platformdirs>=2.5.0 in /root/MultilingualSummarizerAgenticRAGLLM/final/lib/python3.11/site-packages (from pooch>=1.1->librosa->datasets[audio]) (4.3.6)\n",
      "Requirement already satisfied: markdown-it-py>=2.2.0 in /root/MultilingualSummarizerAgenticRAGLLM/final/lib/python3.11/site-packages (from rich>=10.11.0->typer<1.0,>=0.12->gradio) (3.0.0)\n",
      "Requirement already satisfied: pygments<3.0.0,>=2.13.0 in /root/MultilingualSummarizerAgenticRAGLLM/final/lib/python3.11/site-packages (from rich>=10.11.0->typer<1.0,>=0.12->gradio) (2.19.1)\n",
      "Requirement already satisfied: threadpoolctl>=3.1.0 in /root/MultilingualSummarizerAgenticRAGLLM/final/lib/python3.11/site-packages (from scikit-learn>=0.20.0->librosa->datasets[audio]) (3.5.0)\n",
      "Requirement already satisfied: mdurl~=0.1 in /root/MultilingualSummarizerAgenticRAGLLM/final/lib/python3.11/site-packages (from markdown-it-py>=2.2.0->rich>=10.11.0->typer<1.0,>=0.12->gradio) (0.1.2)\n",
      "Note: you may need to restart the kernel to use updated packages.\n",
      "Requirement already satisfied: ipywidgets in /root/MultilingualSummarizerAgenticRAGLLM/final/lib/python3.11/site-packages (8.1.5)\n",
      "Requirement already satisfied: comm>=0.1.3 in /root/MultilingualSummarizerAgenticRAGLLM/final/lib/python3.11/site-packages (from ipywidgets) (0.2.2)\n",
      "Requirement already satisfied: ipython>=6.1.0 in /root/MultilingualSummarizerAgenticRAGLLM/final/lib/python3.11/site-packages (from ipywidgets) (8.31.0)\n",
      "Requirement already satisfied: traitlets>=4.3.1 in /root/MultilingualSummarizerAgenticRAGLLM/final/lib/python3.11/site-packages (from ipywidgets) (5.14.3)\n",
      "Requirement already satisfied: widgetsnbextension~=4.0.12 in /root/MultilingualSummarizerAgenticRAGLLM/final/lib/python3.11/site-packages (from ipywidgets) (4.0.13)\n",
      "Requirement already satisfied: jupyterlab-widgets~=3.0.12 in /root/MultilingualSummarizerAgenticRAGLLM/final/lib/python3.11/site-packages (from ipywidgets) (3.0.13)\n",
      "Requirement already satisfied: decorator in /root/MultilingualSummarizerAgenticRAGLLM/final/lib/python3.11/site-packages (from ipython>=6.1.0->ipywidgets) (5.1.1)\n",
      "Requirement already satisfied: jedi>=0.16 in /root/MultilingualSummarizerAgenticRAGLLM/final/lib/python3.11/site-packages (from ipython>=6.1.0->ipywidgets) (0.19.2)\n",
      "Requirement already satisfied: matplotlib-inline in /root/MultilingualSummarizerAgenticRAGLLM/final/lib/python3.11/site-packages (from ipython>=6.1.0->ipywidgets) (0.1.7)\n",
      "Requirement already satisfied: pexpect>4.3 in /root/MultilingualSummarizerAgenticRAGLLM/final/lib/python3.11/site-packages (from ipython>=6.1.0->ipywidgets) (4.9.0)\n",
      "Requirement already satisfied: prompt_toolkit<3.1.0,>=3.0.41 in /root/MultilingualSummarizerAgenticRAGLLM/final/lib/python3.11/site-packages (from ipython>=6.1.0->ipywidgets) (3.0.50)\n",
      "Requirement already satisfied: pygments>=2.4.0 in /root/MultilingualSummarizerAgenticRAGLLM/final/lib/python3.11/site-packages (from ipython>=6.1.0->ipywidgets) (2.19.1)\n",
      "Requirement already satisfied: stack_data in /root/MultilingualSummarizerAgenticRAGLLM/final/lib/python3.11/site-packages (from ipython>=6.1.0->ipywidgets) (0.6.3)\n",
      "Requirement already satisfied: typing_extensions>=4.6 in /root/MultilingualSummarizerAgenticRAGLLM/final/lib/python3.11/site-packages (from ipython>=6.1.0->ipywidgets) (4.12.2)\n",
      "Requirement already satisfied: parso<0.9.0,>=0.8.4 in /root/MultilingualSummarizerAgenticRAGLLM/final/lib/python3.11/site-packages (from jedi>=0.16->ipython>=6.1.0->ipywidgets) (0.8.4)\n",
      "Requirement already satisfied: ptyprocess>=0.5 in /root/MultilingualSummarizerAgenticRAGLLM/final/lib/python3.11/site-packages (from pexpect>4.3->ipython>=6.1.0->ipywidgets) (0.7.0)\n",
      "Requirement already satisfied: wcwidth in /root/MultilingualSummarizerAgenticRAGLLM/final/lib/python3.11/site-packages (from prompt_toolkit<3.1.0,>=3.0.41->ipython>=6.1.0->ipywidgets) (0.2.13)\n",
      "Requirement already satisfied: executing>=1.2.0 in /root/MultilingualSummarizerAgenticRAGLLM/final/lib/python3.11/site-packages (from stack_data->ipython>=6.1.0->ipywidgets) (2.2.0)\n",
      "Requirement already satisfied: asttokens>=2.1.0 in /root/MultilingualSummarizerAgenticRAGLLM/final/lib/python3.11/site-packages (from stack_data->ipython>=6.1.0->ipywidgets) (3.0.0)\n",
      "Requirement already satisfied: pure-eval in /root/MultilingualSummarizerAgenticRAGLLM/final/lib/python3.11/site-packages (from stack_data->ipython>=6.1.0->ipywidgets) (0.2.3)\n",
      "Note: you may need to restart the kernel to use updated packages.\n",
      "Requirement already satisfied: notebook in /root/MultilingualSummarizerAgenticRAGLLM/final/lib/python3.11/site-packages (7.3.2)\n",
      "Requirement already satisfied: jupyter-server<3,>=2.4.0 in /root/MultilingualSummarizerAgenticRAGLLM/final/lib/python3.11/site-packages (from notebook) (2.15.0)\n",
      "Requirement already satisfied: jupyterlab-server<3,>=2.27.1 in /root/MultilingualSummarizerAgenticRAGLLM/final/lib/python3.11/site-packages (from notebook) (2.27.3)\n",
      "Requirement already satisfied: jupyterlab<4.4,>=4.3.4 in /root/MultilingualSummarizerAgenticRAGLLM/final/lib/python3.11/site-packages (from notebook) (4.3.4)\n",
      "Requirement already satisfied: notebook-shim<0.3,>=0.2 in /root/MultilingualSummarizerAgenticRAGLLM/final/lib/python3.11/site-packages (from notebook) (0.2.4)\n",
      "Requirement already satisfied: tornado>=6.2.0 in /root/MultilingualSummarizerAgenticRAGLLM/final/lib/python3.11/site-packages (from notebook) (6.4.2)\n",
      "Requirement already satisfied: anyio>=3.1.0 in /root/MultilingualSummarizerAgenticRAGLLM/final/lib/python3.11/site-packages (from jupyter-server<3,>=2.4.0->notebook) (4.8.0)\n",
      "Requirement already satisfied: argon2-cffi>=21.1 in /root/MultilingualSummarizerAgenticRAGLLM/final/lib/python3.11/site-packages (from jupyter-server<3,>=2.4.0->notebook) (23.1.0)\n",
      "Requirement already satisfied: jinja2>=3.0.3 in /root/MultilingualSummarizerAgenticRAGLLM/final/lib/python3.11/site-packages (from jupyter-server<3,>=2.4.0->notebook) (3.1.5)\n",
      "Requirement already satisfied: jupyter-client>=7.4.4 in /root/MultilingualSummarizerAgenticRAGLLM/final/lib/python3.11/site-packages (from jupyter-server<3,>=2.4.0->notebook) (8.6.3)\n",
      "Requirement already satisfied: jupyter-core!=5.0.*,>=4.12 in /root/MultilingualSummarizerAgenticRAGLLM/final/lib/python3.11/site-packages (from jupyter-server<3,>=2.4.0->notebook) (5.7.2)\n",
      "Requirement already satisfied: jupyter-events>=0.11.0 in /root/MultilingualSummarizerAgenticRAGLLM/final/lib/python3.11/site-packages (from jupyter-server<3,>=2.4.0->notebook) (0.11.0)\n",
      "Requirement already satisfied: jupyter-server-terminals>=0.4.4 in /root/MultilingualSummarizerAgenticRAGLLM/final/lib/python3.11/site-packages (from jupyter-server<3,>=2.4.0->notebook) (0.5.3)\n",
      "Requirement already satisfied: nbconvert>=6.4.4 in /root/MultilingualSummarizerAgenticRAGLLM/final/lib/python3.11/site-packages (from jupyter-server<3,>=2.4.0->notebook) (7.16.5)\n",
      "Requirement already satisfied: nbformat>=5.3.0 in /root/MultilingualSummarizerAgenticRAGLLM/final/lib/python3.11/site-packages (from jupyter-server<3,>=2.4.0->notebook) (5.10.4)\n",
      "Requirement already satisfied: overrides>=5.0 in /root/MultilingualSummarizerAgenticRAGLLM/final/lib/python3.11/site-packages (from jupyter-server<3,>=2.4.0->notebook) (7.7.0)\n",
      "Requirement already satisfied: packaging>=22.0 in /root/MultilingualSummarizerAgenticRAGLLM/final/lib/python3.11/site-packages (from jupyter-server<3,>=2.4.0->notebook) (24.2)\n",
      "Requirement already satisfied: prometheus-client>=0.9 in /root/MultilingualSummarizerAgenticRAGLLM/final/lib/python3.11/site-packages (from jupyter-server<3,>=2.4.0->notebook) (0.21.1)\n",
      "Requirement already satisfied: pyzmq>=24 in /root/MultilingualSummarizerAgenticRAGLLM/final/lib/python3.11/site-packages (from jupyter-server<3,>=2.4.0->notebook) (26.2.0)\n",
      "Requirement already satisfied: send2trash>=1.8.2 in /root/MultilingualSummarizerAgenticRAGLLM/final/lib/python3.11/site-packages (from jupyter-server<3,>=2.4.0->notebook) (1.8.3)\n",
      "Requirement already satisfied: terminado>=0.8.3 in /root/MultilingualSummarizerAgenticRAGLLM/final/lib/python3.11/site-packages (from jupyter-server<3,>=2.4.0->notebook) (0.18.1)\n",
      "Requirement already satisfied: traitlets>=5.6.0 in /root/MultilingualSummarizerAgenticRAGLLM/final/lib/python3.11/site-packages (from jupyter-server<3,>=2.4.0->notebook) (5.14.3)\n",
      "Requirement already satisfied: websocket-client>=1.7 in /root/MultilingualSummarizerAgenticRAGLLM/final/lib/python3.11/site-packages (from jupyter-server<3,>=2.4.0->notebook) (1.8.0)\n",
      "Requirement already satisfied: async-lru>=1.0.0 in /root/MultilingualSummarizerAgenticRAGLLM/final/lib/python3.11/site-packages (from jupyterlab<4.4,>=4.3.4->notebook) (2.0.4)\n",
      "Requirement already satisfied: httpx>=0.25.0 in /root/MultilingualSummarizerAgenticRAGLLM/final/lib/python3.11/site-packages (from jupyterlab<4.4,>=4.3.4->notebook) (0.28.1)\n",
      "Requirement already satisfied: ipykernel>=6.5.0 in /root/MultilingualSummarizerAgenticRAGLLM/final/lib/python3.11/site-packages (from jupyterlab<4.4,>=4.3.4->notebook) (6.29.5)\n",
      "Requirement already satisfied: jupyter-lsp>=2.0.0 in /root/MultilingualSummarizerAgenticRAGLLM/final/lib/python3.11/site-packages (from jupyterlab<4.4,>=4.3.4->notebook) (2.2.5)\n",
      "Requirement already satisfied: setuptools>=40.8.0 in /root/MultilingualSummarizerAgenticRAGLLM/final/lib/python3.11/site-packages (from jupyterlab<4.4,>=4.3.4->notebook) (65.5.0)\n",
      "Requirement already satisfied: babel>=2.10 in /root/MultilingualSummarizerAgenticRAGLLM/final/lib/python3.11/site-packages (from jupyterlab-server<3,>=2.27.1->notebook) (2.16.0)\n",
      "Requirement already satisfied: json5>=0.9.0 in /root/MultilingualSummarizerAgenticRAGLLM/final/lib/python3.11/site-packages (from jupyterlab-server<3,>=2.27.1->notebook) (0.10.0)\n",
      "Requirement already satisfied: jsonschema>=4.18.0 in /root/MultilingualSummarizerAgenticRAGLLM/final/lib/python3.11/site-packages (from jupyterlab-server<3,>=2.27.1->notebook) (4.23.0)\n",
      "Requirement already satisfied: requests>=2.31 in /root/MultilingualSummarizerAgenticRAGLLM/final/lib/python3.11/site-packages (from jupyterlab-server<3,>=2.27.1->notebook) (2.32.3)\n",
      "Requirement already satisfied: idna>=2.8 in /root/MultilingualSummarizerAgenticRAGLLM/final/lib/python3.11/site-packages (from anyio>=3.1.0->jupyter-server<3,>=2.4.0->notebook) (3.10)\n",
      "Requirement already satisfied: sniffio>=1.1 in /root/MultilingualSummarizerAgenticRAGLLM/final/lib/python3.11/site-packages (from anyio>=3.1.0->jupyter-server<3,>=2.4.0->notebook) (1.3.1)\n",
      "Requirement already satisfied: typing_extensions>=4.5 in /root/MultilingualSummarizerAgenticRAGLLM/final/lib/python3.11/site-packages (from anyio>=3.1.0->jupyter-server<3,>=2.4.0->notebook) (4.12.2)\n",
      "Requirement already satisfied: argon2-cffi-bindings in /root/MultilingualSummarizerAgenticRAGLLM/final/lib/python3.11/site-packages (from argon2-cffi>=21.1->jupyter-server<3,>=2.4.0->notebook) (21.2.0)\n",
      "Requirement already satisfied: certifi in /root/MultilingualSummarizerAgenticRAGLLM/final/lib/python3.11/site-packages (from httpx>=0.25.0->jupyterlab<4.4,>=4.3.4->notebook) (2024.12.14)\n",
      "Requirement already satisfied: httpcore==1.* in /root/MultilingualSummarizerAgenticRAGLLM/final/lib/python3.11/site-packages (from httpx>=0.25.0->jupyterlab<4.4,>=4.3.4->notebook) (1.0.7)\n",
      "Requirement already satisfied: h11<0.15,>=0.13 in /root/MultilingualSummarizerAgenticRAGLLM/final/lib/python3.11/site-packages (from httpcore==1.*->httpx>=0.25.0->jupyterlab<4.4,>=4.3.4->notebook) (0.14.0)\n",
      "Requirement already satisfied: comm>=0.1.1 in /root/MultilingualSummarizerAgenticRAGLLM/final/lib/python3.11/site-packages (from ipykernel>=6.5.0->jupyterlab<4.4,>=4.3.4->notebook) (0.2.2)\n",
      "Requirement already satisfied: debugpy>=1.6.5 in /root/MultilingualSummarizerAgenticRAGLLM/final/lib/python3.11/site-packages (from ipykernel>=6.5.0->jupyterlab<4.4,>=4.3.4->notebook) (1.8.12)\n",
      "Requirement already satisfied: ipython>=7.23.1 in /root/MultilingualSummarizerAgenticRAGLLM/final/lib/python3.11/site-packages (from ipykernel>=6.5.0->jupyterlab<4.4,>=4.3.4->notebook) (8.31.0)\n",
      "Requirement already satisfied: matplotlib-inline>=0.1 in /root/MultilingualSummarizerAgenticRAGLLM/final/lib/python3.11/site-packages (from ipykernel>=6.5.0->jupyterlab<4.4,>=4.3.4->notebook) (0.1.7)\n",
      "Requirement already satisfied: nest-asyncio in /root/MultilingualSummarizerAgenticRAGLLM/final/lib/python3.11/site-packages (from ipykernel>=6.5.0->jupyterlab<4.4,>=4.3.4->notebook) (1.6.0)\n",
      "Requirement already satisfied: psutil in /root/MultilingualSummarizerAgenticRAGLLM/final/lib/python3.11/site-packages (from ipykernel>=6.5.0->jupyterlab<4.4,>=4.3.4->notebook) (6.1.1)\n",
      "Requirement already satisfied: MarkupSafe>=2.0 in /root/MultilingualSummarizerAgenticRAGLLM/final/lib/python3.11/site-packages (from jinja2>=3.0.3->jupyter-server<3,>=2.4.0->notebook) (2.1.5)\n",
      "Requirement already satisfied: attrs>=22.2.0 in /root/MultilingualSummarizerAgenticRAGLLM/final/lib/python3.11/site-packages (from jsonschema>=4.18.0->jupyterlab-server<3,>=2.27.1->notebook) (25.1.0)\n",
      "Requirement already satisfied: jsonschema-specifications>=2023.03.6 in /root/MultilingualSummarizerAgenticRAGLLM/final/lib/python3.11/site-packages (from jsonschema>=4.18.0->jupyterlab-server<3,>=2.27.1->notebook) (2024.10.1)\n",
      "Requirement already satisfied: referencing>=0.28.4 in /root/MultilingualSummarizerAgenticRAGLLM/final/lib/python3.11/site-packages (from jsonschema>=4.18.0->jupyterlab-server<3,>=2.27.1->notebook) (0.36.2)\n",
      "Requirement already satisfied: rpds-py>=0.7.1 in /root/MultilingualSummarizerAgenticRAGLLM/final/lib/python3.11/site-packages (from jsonschema>=4.18.0->jupyterlab-server<3,>=2.27.1->notebook) (0.22.3)\n",
      "Requirement already satisfied: python-dateutil>=2.8.2 in /root/MultilingualSummarizerAgenticRAGLLM/final/lib/python3.11/site-packages (from jupyter-client>=7.4.4->jupyter-server<3,>=2.4.0->notebook) (2.9.0.post0)\n",
      "Requirement already satisfied: platformdirs>=2.5 in /root/MultilingualSummarizerAgenticRAGLLM/final/lib/python3.11/site-packages (from jupyter-core!=5.0.*,>=4.12->jupyter-server<3,>=2.4.0->notebook) (4.3.6)\n",
      "Requirement already satisfied: python-json-logger>=2.0.4 in /root/MultilingualSummarizerAgenticRAGLLM/final/lib/python3.11/site-packages (from jupyter-events>=0.11.0->jupyter-server<3,>=2.4.0->notebook) (3.2.1)\n",
      "Requirement already satisfied: pyyaml>=5.3 in /root/MultilingualSummarizerAgenticRAGLLM/final/lib/python3.11/site-packages (from jupyter-events>=0.11.0->jupyter-server<3,>=2.4.0->notebook) (6.0.2)\n",
      "Requirement already satisfied: rfc3339-validator in /root/MultilingualSummarizerAgenticRAGLLM/final/lib/python3.11/site-packages (from jupyter-events>=0.11.0->jupyter-server<3,>=2.4.0->notebook) (0.1.4)\n",
      "Requirement already satisfied: rfc3986-validator>=0.1.1 in /root/MultilingualSummarizerAgenticRAGLLM/final/lib/python3.11/site-packages (from jupyter-events>=0.11.0->jupyter-server<3,>=2.4.0->notebook) (0.1.1)\n",
      "Requirement already satisfied: beautifulsoup4 in /root/MultilingualSummarizerAgenticRAGLLM/final/lib/python3.11/site-packages (from nbconvert>=6.4.4->jupyter-server<3,>=2.4.0->notebook) (4.12.3)\n",
      "Requirement already satisfied: bleach!=5.0.0 in /root/MultilingualSummarizerAgenticRAGLLM/final/lib/python3.11/site-packages (from bleach[css]!=5.0.0->nbconvert>=6.4.4->jupyter-server<3,>=2.4.0->notebook) (6.2.0)\n",
      "Requirement already satisfied: defusedxml in /root/MultilingualSummarizerAgenticRAGLLM/final/lib/python3.11/site-packages (from nbconvert>=6.4.4->jupyter-server<3,>=2.4.0->notebook) (0.7.1)\n",
      "Requirement already satisfied: jupyterlab-pygments in /root/MultilingualSummarizerAgenticRAGLLM/final/lib/python3.11/site-packages (from nbconvert>=6.4.4->jupyter-server<3,>=2.4.0->notebook) (0.3.0)\n",
      "Requirement already satisfied: mistune<4,>=2.0.3 in /root/MultilingualSummarizerAgenticRAGLLM/final/lib/python3.11/site-packages (from nbconvert>=6.4.4->jupyter-server<3,>=2.4.0->notebook) (3.1.0)\n",
      "Requirement already satisfied: nbclient>=0.5.0 in /root/MultilingualSummarizerAgenticRAGLLM/final/lib/python3.11/site-packages (from nbconvert>=6.4.4->jupyter-server<3,>=2.4.0->notebook) (0.10.2)\n",
      "Requirement already satisfied: pandocfilters>=1.4.1 in /root/MultilingualSummarizerAgenticRAGLLM/final/lib/python3.11/site-packages (from nbconvert>=6.4.4->jupyter-server<3,>=2.4.0->notebook) (1.5.1)\n",
      "Requirement already satisfied: pygments>=2.4.1 in /root/MultilingualSummarizerAgenticRAGLLM/final/lib/python3.11/site-packages (from nbconvert>=6.4.4->jupyter-server<3,>=2.4.0->notebook) (2.19.1)\n",
      "Requirement already satisfied: fastjsonschema>=2.15 in /root/MultilingualSummarizerAgenticRAGLLM/final/lib/python3.11/site-packages (from nbformat>=5.3.0->jupyter-server<3,>=2.4.0->notebook) (2.21.1)\n",
      "Requirement already satisfied: charset-normalizer<4,>=2 in /root/MultilingualSummarizerAgenticRAGLLM/final/lib/python3.11/site-packages (from requests>=2.31->jupyterlab-server<3,>=2.27.1->notebook) (3.4.1)\n",
      "Requirement already satisfied: urllib3<3,>=1.21.1 in /root/MultilingualSummarizerAgenticRAGLLM/final/lib/python3.11/site-packages (from requests>=2.31->jupyterlab-server<3,>=2.27.1->notebook) (2.3.0)\n",
      "Requirement already satisfied: ptyprocess in /root/MultilingualSummarizerAgenticRAGLLM/final/lib/python3.11/site-packages (from terminado>=0.8.3->jupyter-server<3,>=2.4.0->notebook) (0.7.0)\n",
      "Requirement already satisfied: webencodings in /root/MultilingualSummarizerAgenticRAGLLM/final/lib/python3.11/site-packages (from bleach!=5.0.0->bleach[css]!=5.0.0->nbconvert>=6.4.4->jupyter-server<3,>=2.4.0->notebook) (0.5.1)\n",
      "Requirement already satisfied: tinycss2<1.5,>=1.1.0 in /root/MultilingualSummarizerAgenticRAGLLM/final/lib/python3.11/site-packages (from bleach[css]!=5.0.0->nbconvert>=6.4.4->jupyter-server<3,>=2.4.0->notebook) (1.4.0)\n",
      "Requirement already satisfied: decorator in /root/MultilingualSummarizerAgenticRAGLLM/final/lib/python3.11/site-packages (from ipython>=7.23.1->ipykernel>=6.5.0->jupyterlab<4.4,>=4.3.4->notebook) (5.1.1)\n",
      "Requirement already satisfied: jedi>=0.16 in /root/MultilingualSummarizerAgenticRAGLLM/final/lib/python3.11/site-packages (from ipython>=7.23.1->ipykernel>=6.5.0->jupyterlab<4.4,>=4.3.4->notebook) (0.19.2)\n",
      "Requirement already satisfied: pexpect>4.3 in /root/MultilingualSummarizerAgenticRAGLLM/final/lib/python3.11/site-packages (from ipython>=7.23.1->ipykernel>=6.5.0->jupyterlab<4.4,>=4.3.4->notebook) (4.9.0)\n",
      "Requirement already satisfied: prompt_toolkit<3.1.0,>=3.0.41 in /root/MultilingualSummarizerAgenticRAGLLM/final/lib/python3.11/site-packages (from ipython>=7.23.1->ipykernel>=6.5.0->jupyterlab<4.4,>=4.3.4->notebook) (3.0.50)\n",
      "Requirement already satisfied: stack_data in /root/MultilingualSummarizerAgenticRAGLLM/final/lib/python3.11/site-packages (from ipython>=7.23.1->ipykernel>=6.5.0->jupyterlab<4.4,>=4.3.4->notebook) (0.6.3)\n",
      "Requirement already satisfied: fqdn in /root/MultilingualSummarizerAgenticRAGLLM/final/lib/python3.11/site-packages (from jsonschema[format-nongpl]>=4.18.0->jupyter-events>=0.11.0->jupyter-server<3,>=2.4.0->notebook) (1.5.1)\n",
      "Requirement already satisfied: isoduration in /root/MultilingualSummarizerAgenticRAGLLM/final/lib/python3.11/site-packages (from jsonschema[format-nongpl]>=4.18.0->jupyter-events>=0.11.0->jupyter-server<3,>=2.4.0->notebook) (20.11.0)\n",
      "Requirement already satisfied: jsonpointer>1.13 in /root/MultilingualSummarizerAgenticRAGLLM/final/lib/python3.11/site-packages (from jsonschema[format-nongpl]>=4.18.0->jupyter-events>=0.11.0->jupyter-server<3,>=2.4.0->notebook) (3.0.0)\n",
      "Requirement already satisfied: uri-template in /root/MultilingualSummarizerAgenticRAGLLM/final/lib/python3.11/site-packages (from jsonschema[format-nongpl]>=4.18.0->jupyter-events>=0.11.0->jupyter-server<3,>=2.4.0->notebook) (1.3.0)\n",
      "Requirement already satisfied: webcolors>=24.6.0 in /root/MultilingualSummarizerAgenticRAGLLM/final/lib/python3.11/site-packages (from jsonschema[format-nongpl]>=4.18.0->jupyter-events>=0.11.0->jupyter-server<3,>=2.4.0->notebook) (24.11.1)\n",
      "Requirement already satisfied: six>=1.5 in /root/MultilingualSummarizerAgenticRAGLLM/final/lib/python3.11/site-packages (from python-dateutil>=2.8.2->jupyter-client>=7.4.4->jupyter-server<3,>=2.4.0->notebook) (1.17.0)\n",
      "Requirement already satisfied: cffi>=1.0.1 in /root/MultilingualSummarizerAgenticRAGLLM/final/lib/python3.11/site-packages (from argon2-cffi-bindings->argon2-cffi>=21.1->jupyter-server<3,>=2.4.0->notebook) (1.17.1)\n",
      "Requirement already satisfied: soupsieve>1.2 in /root/MultilingualSummarizerAgenticRAGLLM/final/lib/python3.11/site-packages (from beautifulsoup4->nbconvert>=6.4.4->jupyter-server<3,>=2.4.0->notebook) (2.6)\n",
      "Requirement already satisfied: pycparser in /root/MultilingualSummarizerAgenticRAGLLM/final/lib/python3.11/site-packages (from cffi>=1.0.1->argon2-cffi-bindings->argon2-cffi>=21.1->jupyter-server<3,>=2.4.0->notebook) (2.22)\n",
      "Requirement already satisfied: parso<0.9.0,>=0.8.4 in /root/MultilingualSummarizerAgenticRAGLLM/final/lib/python3.11/site-packages (from jedi>=0.16->ipython>=7.23.1->ipykernel>=6.5.0->jupyterlab<4.4,>=4.3.4->notebook) (0.8.4)\n",
      "Requirement already satisfied: wcwidth in /root/MultilingualSummarizerAgenticRAGLLM/final/lib/python3.11/site-packages (from prompt_toolkit<3.1.0,>=3.0.41->ipython>=7.23.1->ipykernel>=6.5.0->jupyterlab<4.4,>=4.3.4->notebook) (0.2.13)\n",
      "Requirement already satisfied: arrow>=0.15.0 in /root/MultilingualSummarizerAgenticRAGLLM/final/lib/python3.11/site-packages (from isoduration->jsonschema[format-nongpl]>=4.18.0->jupyter-events>=0.11.0->jupyter-server<3,>=2.4.0->notebook) (1.3.0)\n",
      "Requirement already satisfied: executing>=1.2.0 in /root/MultilingualSummarizerAgenticRAGLLM/final/lib/python3.11/site-packages (from stack_data->ipython>=7.23.1->ipykernel>=6.5.0->jupyterlab<4.4,>=4.3.4->notebook) (2.2.0)\n",
      "Requirement already satisfied: asttokens>=2.1.0 in /root/MultilingualSummarizerAgenticRAGLLM/final/lib/python3.11/site-packages (from stack_data->ipython>=7.23.1->ipykernel>=6.5.0->jupyterlab<4.4,>=4.3.4->notebook) (3.0.0)\n",
      "Requirement already satisfied: pure-eval in /root/MultilingualSummarizerAgenticRAGLLM/final/lib/python3.11/site-packages (from stack_data->ipython>=7.23.1->ipykernel>=6.5.0->jupyterlab<4.4,>=4.3.4->notebook) (0.2.3)\n",
      "Requirement already satisfied: types-python-dateutil>=2.8.10 in /root/MultilingualSummarizerAgenticRAGLLM/final/lib/python3.11/site-packages (from arrow>=0.15.0->isoduration->jsonschema[format-nongpl]>=4.18.0->jupyter-events>=0.11.0->jupyter-server<3,>=2.4.0->notebook) (2.9.0.20241206)\n",
      "Note: you may need to restart the kernel to use updated packages.\n",
      "Requirement already satisfied: jupyterlab in /root/MultilingualSummarizerAgenticRAGLLM/final/lib/python3.11/site-packages (4.3.4)\n",
      "Requirement already satisfied: async-lru>=1.0.0 in /root/MultilingualSummarizerAgenticRAGLLM/final/lib/python3.11/site-packages (from jupyterlab) (2.0.4)\n",
      "Requirement already satisfied: httpx>=0.25.0 in /root/MultilingualSummarizerAgenticRAGLLM/final/lib/python3.11/site-packages (from jupyterlab) (0.28.1)\n",
      "Requirement already satisfied: ipykernel>=6.5.0 in /root/MultilingualSummarizerAgenticRAGLLM/final/lib/python3.11/site-packages (from jupyterlab) (6.29.5)\n",
      "Requirement already satisfied: jinja2>=3.0.3 in /root/MultilingualSummarizerAgenticRAGLLM/final/lib/python3.11/site-packages (from jupyterlab) (3.1.5)\n",
      "Requirement already satisfied: jupyter-core in /root/MultilingualSummarizerAgenticRAGLLM/final/lib/python3.11/site-packages (from jupyterlab) (5.7.2)\n",
      "Requirement already satisfied: jupyter-lsp>=2.0.0 in /root/MultilingualSummarizerAgenticRAGLLM/final/lib/python3.11/site-packages (from jupyterlab) (2.2.5)\n",
      "Requirement already satisfied: jupyter-server<3,>=2.4.0 in /root/MultilingualSummarizerAgenticRAGLLM/final/lib/python3.11/site-packages (from jupyterlab) (2.15.0)\n",
      "Requirement already satisfied: jupyterlab-server<3,>=2.27.1 in /root/MultilingualSummarizerAgenticRAGLLM/final/lib/python3.11/site-packages (from jupyterlab) (2.27.3)\n",
      "Requirement already satisfied: notebook-shim>=0.2 in /root/MultilingualSummarizerAgenticRAGLLM/final/lib/python3.11/site-packages (from jupyterlab) (0.2.4)\n",
      "Requirement already satisfied: packaging in /root/MultilingualSummarizerAgenticRAGLLM/final/lib/python3.11/site-packages (from jupyterlab) (24.2)\n",
      "Requirement already satisfied: setuptools>=40.8.0 in /root/MultilingualSummarizerAgenticRAGLLM/final/lib/python3.11/site-packages (from jupyterlab) (65.5.0)\n",
      "Requirement already satisfied: tornado>=6.2.0 in /root/MultilingualSummarizerAgenticRAGLLM/final/lib/python3.11/site-packages (from jupyterlab) (6.4.2)\n",
      "Requirement already satisfied: traitlets in /root/MultilingualSummarizerAgenticRAGLLM/final/lib/python3.11/site-packages (from jupyterlab) (5.14.3)\n",
      "Requirement already satisfied: anyio in /root/MultilingualSummarizerAgenticRAGLLM/final/lib/python3.11/site-packages (from httpx>=0.25.0->jupyterlab) (4.8.0)\n",
      "Requirement already satisfied: certifi in /root/MultilingualSummarizerAgenticRAGLLM/final/lib/python3.11/site-packages (from httpx>=0.25.0->jupyterlab) (2024.12.14)\n",
      "Requirement already satisfied: httpcore==1.* in /root/MultilingualSummarizerAgenticRAGLLM/final/lib/python3.11/site-packages (from httpx>=0.25.0->jupyterlab) (1.0.7)\n",
      "Requirement already satisfied: idna in /root/MultilingualSummarizerAgenticRAGLLM/final/lib/python3.11/site-packages (from httpx>=0.25.0->jupyterlab) (3.10)\n",
      "Requirement already satisfied: h11<0.15,>=0.13 in /root/MultilingualSummarizerAgenticRAGLLM/final/lib/python3.11/site-packages (from httpcore==1.*->httpx>=0.25.0->jupyterlab) (0.14.0)\n",
      "Requirement already satisfied: comm>=0.1.1 in /root/MultilingualSummarizerAgenticRAGLLM/final/lib/python3.11/site-packages (from ipykernel>=6.5.0->jupyterlab) (0.2.2)\n",
      "Requirement already satisfied: debugpy>=1.6.5 in /root/MultilingualSummarizerAgenticRAGLLM/final/lib/python3.11/site-packages (from ipykernel>=6.5.0->jupyterlab) (1.8.12)\n",
      "Requirement already satisfied: ipython>=7.23.1 in /root/MultilingualSummarizerAgenticRAGLLM/final/lib/python3.11/site-packages (from ipykernel>=6.5.0->jupyterlab) (8.31.0)\n",
      "Requirement already satisfied: jupyter-client>=6.1.12 in /root/MultilingualSummarizerAgenticRAGLLM/final/lib/python3.11/site-packages (from ipykernel>=6.5.0->jupyterlab) (8.6.3)\n",
      "Requirement already satisfied: matplotlib-inline>=0.1 in /root/MultilingualSummarizerAgenticRAGLLM/final/lib/python3.11/site-packages (from ipykernel>=6.5.0->jupyterlab) (0.1.7)\n",
      "Requirement already satisfied: nest-asyncio in /root/MultilingualSummarizerAgenticRAGLLM/final/lib/python3.11/site-packages (from ipykernel>=6.5.0->jupyterlab) (1.6.0)\n",
      "Requirement already satisfied: psutil in /root/MultilingualSummarizerAgenticRAGLLM/final/lib/python3.11/site-packages (from ipykernel>=6.5.0->jupyterlab) (6.1.1)\n",
      "Requirement already satisfied: pyzmq>=24 in /root/MultilingualSummarizerAgenticRAGLLM/final/lib/python3.11/site-packages (from ipykernel>=6.5.0->jupyterlab) (26.2.0)\n",
      "Requirement already satisfied: MarkupSafe>=2.0 in /root/MultilingualSummarizerAgenticRAGLLM/final/lib/python3.11/site-packages (from jinja2>=3.0.3->jupyterlab) (2.1.5)\n",
      "Requirement already satisfied: platformdirs>=2.5 in /root/MultilingualSummarizerAgenticRAGLLM/final/lib/python3.11/site-packages (from jupyter-core->jupyterlab) (4.3.6)\n",
      "Requirement already satisfied: argon2-cffi>=21.1 in /root/MultilingualSummarizerAgenticRAGLLM/final/lib/python3.11/site-packages (from jupyter-server<3,>=2.4.0->jupyterlab) (23.1.0)\n",
      "Requirement already satisfied: jupyter-events>=0.11.0 in /root/MultilingualSummarizerAgenticRAGLLM/final/lib/python3.11/site-packages (from jupyter-server<3,>=2.4.0->jupyterlab) (0.11.0)\n",
      "Requirement already satisfied: jupyter-server-terminals>=0.4.4 in /root/MultilingualSummarizerAgenticRAGLLM/final/lib/python3.11/site-packages (from jupyter-server<3,>=2.4.0->jupyterlab) (0.5.3)\n",
      "Requirement already satisfied: nbconvert>=6.4.4 in /root/MultilingualSummarizerAgenticRAGLLM/final/lib/python3.11/site-packages (from jupyter-server<3,>=2.4.0->jupyterlab) (7.16.5)\n",
      "Requirement already satisfied: nbformat>=5.3.0 in /root/MultilingualSummarizerAgenticRAGLLM/final/lib/python3.11/site-packages (from jupyter-server<3,>=2.4.0->jupyterlab) (5.10.4)\n",
      "Requirement already satisfied: overrides>=5.0 in /root/MultilingualSummarizerAgenticRAGLLM/final/lib/python3.11/site-packages (from jupyter-server<3,>=2.4.0->jupyterlab) (7.7.0)\n",
      "Requirement already satisfied: prometheus-client>=0.9 in /root/MultilingualSummarizerAgenticRAGLLM/final/lib/python3.11/site-packages (from jupyter-server<3,>=2.4.0->jupyterlab) (0.21.1)\n",
      "Requirement already satisfied: send2trash>=1.8.2 in /root/MultilingualSummarizerAgenticRAGLLM/final/lib/python3.11/site-packages (from jupyter-server<3,>=2.4.0->jupyterlab) (1.8.3)\n",
      "Requirement already satisfied: terminado>=0.8.3 in /root/MultilingualSummarizerAgenticRAGLLM/final/lib/python3.11/site-packages (from jupyter-server<3,>=2.4.0->jupyterlab) (0.18.1)\n",
      "Requirement already satisfied: websocket-client>=1.7 in /root/MultilingualSummarizerAgenticRAGLLM/final/lib/python3.11/site-packages (from jupyter-server<3,>=2.4.0->jupyterlab) (1.8.0)\n",
      "Requirement already satisfied: babel>=2.10 in /root/MultilingualSummarizerAgenticRAGLLM/final/lib/python3.11/site-packages (from jupyterlab-server<3,>=2.27.1->jupyterlab) (2.16.0)\n",
      "Requirement already satisfied: json5>=0.9.0 in /root/MultilingualSummarizerAgenticRAGLLM/final/lib/python3.11/site-packages (from jupyterlab-server<3,>=2.27.1->jupyterlab) (0.10.0)\n",
      "Requirement already satisfied: jsonschema>=4.18.0 in /root/MultilingualSummarizerAgenticRAGLLM/final/lib/python3.11/site-packages (from jupyterlab-server<3,>=2.27.1->jupyterlab) (4.23.0)\n",
      "Requirement already satisfied: requests>=2.31 in /root/MultilingualSummarizerAgenticRAGLLM/final/lib/python3.11/site-packages (from jupyterlab-server<3,>=2.27.1->jupyterlab) (2.32.3)\n",
      "Requirement already satisfied: sniffio>=1.1 in /root/MultilingualSummarizerAgenticRAGLLM/final/lib/python3.11/site-packages (from anyio->httpx>=0.25.0->jupyterlab) (1.3.1)\n",
      "Requirement already satisfied: typing_extensions>=4.5 in /root/MultilingualSummarizerAgenticRAGLLM/final/lib/python3.11/site-packages (from anyio->httpx>=0.25.0->jupyterlab) (4.12.2)\n",
      "Requirement already satisfied: argon2-cffi-bindings in /root/MultilingualSummarizerAgenticRAGLLM/final/lib/python3.11/site-packages (from argon2-cffi>=21.1->jupyter-server<3,>=2.4.0->jupyterlab) (21.2.0)\n",
      "Requirement already satisfied: decorator in /root/MultilingualSummarizerAgenticRAGLLM/final/lib/python3.11/site-packages (from ipython>=7.23.1->ipykernel>=6.5.0->jupyterlab) (5.1.1)\n",
      "Requirement already satisfied: jedi>=0.16 in /root/MultilingualSummarizerAgenticRAGLLM/final/lib/python3.11/site-packages (from ipython>=7.23.1->ipykernel>=6.5.0->jupyterlab) (0.19.2)\n",
      "Requirement already satisfied: pexpect>4.3 in /root/MultilingualSummarizerAgenticRAGLLM/final/lib/python3.11/site-packages (from ipython>=7.23.1->ipykernel>=6.5.0->jupyterlab) (4.9.0)\n",
      "Requirement already satisfied: prompt_toolkit<3.1.0,>=3.0.41 in /root/MultilingualSummarizerAgenticRAGLLM/final/lib/python3.11/site-packages (from ipython>=7.23.1->ipykernel>=6.5.0->jupyterlab) (3.0.50)\n",
      "Requirement already satisfied: pygments>=2.4.0 in /root/MultilingualSummarizerAgenticRAGLLM/final/lib/python3.11/site-packages (from ipython>=7.23.1->ipykernel>=6.5.0->jupyterlab) (2.19.1)\n",
      "Requirement already satisfied: stack_data in /root/MultilingualSummarizerAgenticRAGLLM/final/lib/python3.11/site-packages (from ipython>=7.23.1->ipykernel>=6.5.0->jupyterlab) (0.6.3)\n",
      "Requirement already satisfied: attrs>=22.2.0 in /root/MultilingualSummarizerAgenticRAGLLM/final/lib/python3.11/site-packages (from jsonschema>=4.18.0->jupyterlab-server<3,>=2.27.1->jupyterlab) (25.1.0)\n",
      "Requirement already satisfied: jsonschema-specifications>=2023.03.6 in /root/MultilingualSummarizerAgenticRAGLLM/final/lib/python3.11/site-packages (from jsonschema>=4.18.0->jupyterlab-server<3,>=2.27.1->jupyterlab) (2024.10.1)\n",
      "Requirement already satisfied: referencing>=0.28.4 in /root/MultilingualSummarizerAgenticRAGLLM/final/lib/python3.11/site-packages (from jsonschema>=4.18.0->jupyterlab-server<3,>=2.27.1->jupyterlab) (0.36.2)\n",
      "Requirement already satisfied: rpds-py>=0.7.1 in /root/MultilingualSummarizerAgenticRAGLLM/final/lib/python3.11/site-packages (from jsonschema>=4.18.0->jupyterlab-server<3,>=2.27.1->jupyterlab) (0.22.3)\n",
      "Requirement already satisfied: python-dateutil>=2.8.2 in /root/MultilingualSummarizerAgenticRAGLLM/final/lib/python3.11/site-packages (from jupyter-client>=6.1.12->ipykernel>=6.5.0->jupyterlab) (2.9.0.post0)\n",
      "Requirement already satisfied: python-json-logger>=2.0.4 in /root/MultilingualSummarizerAgenticRAGLLM/final/lib/python3.11/site-packages (from jupyter-events>=0.11.0->jupyter-server<3,>=2.4.0->jupyterlab) (3.2.1)\n",
      "Requirement already satisfied: pyyaml>=5.3 in /root/MultilingualSummarizerAgenticRAGLLM/final/lib/python3.11/site-packages (from jupyter-events>=0.11.0->jupyter-server<3,>=2.4.0->jupyterlab) (6.0.2)\n",
      "Requirement already satisfied: rfc3339-validator in /root/MultilingualSummarizerAgenticRAGLLM/final/lib/python3.11/site-packages (from jupyter-events>=0.11.0->jupyter-server<3,>=2.4.0->jupyterlab) (0.1.4)\n",
      "Requirement already satisfied: rfc3986-validator>=0.1.1 in /root/MultilingualSummarizerAgenticRAGLLM/final/lib/python3.11/site-packages (from jupyter-events>=0.11.0->jupyter-server<3,>=2.4.0->jupyterlab) (0.1.1)\n",
      "Requirement already satisfied: beautifulsoup4 in /root/MultilingualSummarizerAgenticRAGLLM/final/lib/python3.11/site-packages (from nbconvert>=6.4.4->jupyter-server<3,>=2.4.0->jupyterlab) (4.12.3)\n",
      "Requirement already satisfied: bleach!=5.0.0 in /root/MultilingualSummarizerAgenticRAGLLM/final/lib/python3.11/site-packages (from bleach[css]!=5.0.0->nbconvert>=6.4.4->jupyter-server<3,>=2.4.0->jupyterlab) (6.2.0)\n",
      "Requirement already satisfied: defusedxml in /root/MultilingualSummarizerAgenticRAGLLM/final/lib/python3.11/site-packages (from nbconvert>=6.4.4->jupyter-server<3,>=2.4.0->jupyterlab) (0.7.1)\n",
      "Requirement already satisfied: jupyterlab-pygments in /root/MultilingualSummarizerAgenticRAGLLM/final/lib/python3.11/site-packages (from nbconvert>=6.4.4->jupyter-server<3,>=2.4.0->jupyterlab) (0.3.0)\n",
      "Requirement already satisfied: mistune<4,>=2.0.3 in /root/MultilingualSummarizerAgenticRAGLLM/final/lib/python3.11/site-packages (from nbconvert>=6.4.4->jupyter-server<3,>=2.4.0->jupyterlab) (3.1.0)\n",
      "Requirement already satisfied: nbclient>=0.5.0 in /root/MultilingualSummarizerAgenticRAGLLM/final/lib/python3.11/site-packages (from nbconvert>=6.4.4->jupyter-server<3,>=2.4.0->jupyterlab) (0.10.2)\n",
      "Requirement already satisfied: pandocfilters>=1.4.1 in /root/MultilingualSummarizerAgenticRAGLLM/final/lib/python3.11/site-packages (from nbconvert>=6.4.4->jupyter-server<3,>=2.4.0->jupyterlab) (1.5.1)\n",
      "Requirement already satisfied: fastjsonschema>=2.15 in /root/MultilingualSummarizerAgenticRAGLLM/final/lib/python3.11/site-packages (from nbformat>=5.3.0->jupyter-server<3,>=2.4.0->jupyterlab) (2.21.1)\n",
      "Requirement already satisfied: charset-normalizer<4,>=2 in /root/MultilingualSummarizerAgenticRAGLLM/final/lib/python3.11/site-packages (from requests>=2.31->jupyterlab-server<3,>=2.27.1->jupyterlab) (3.4.1)\n",
      "Requirement already satisfied: urllib3<3,>=1.21.1 in /root/MultilingualSummarizerAgenticRAGLLM/final/lib/python3.11/site-packages (from requests>=2.31->jupyterlab-server<3,>=2.27.1->jupyterlab) (2.3.0)\n",
      "Requirement already satisfied: ptyprocess in /root/MultilingualSummarizerAgenticRAGLLM/final/lib/python3.11/site-packages (from terminado>=0.8.3->jupyter-server<3,>=2.4.0->jupyterlab) (0.7.0)\n",
      "Requirement already satisfied: webencodings in /root/MultilingualSummarizerAgenticRAGLLM/final/lib/python3.11/site-packages (from bleach!=5.0.0->bleach[css]!=5.0.0->nbconvert>=6.4.4->jupyter-server<3,>=2.4.0->jupyterlab) (0.5.1)\n",
      "Requirement already satisfied: tinycss2<1.5,>=1.1.0 in /root/MultilingualSummarizerAgenticRAGLLM/final/lib/python3.11/site-packages (from bleach[css]!=5.0.0->nbconvert>=6.4.4->jupyter-server<3,>=2.4.0->jupyterlab) (1.4.0)\n",
      "Requirement already satisfied: parso<0.9.0,>=0.8.4 in /root/MultilingualSummarizerAgenticRAGLLM/final/lib/python3.11/site-packages (from jedi>=0.16->ipython>=7.23.1->ipykernel>=6.5.0->jupyterlab) (0.8.4)\n",
      "Requirement already satisfied: fqdn in /root/MultilingualSummarizerAgenticRAGLLM/final/lib/python3.11/site-packages (from jsonschema[format-nongpl]>=4.18.0->jupyter-events>=0.11.0->jupyter-server<3,>=2.4.0->jupyterlab) (1.5.1)\n",
      "Requirement already satisfied: isoduration in /root/MultilingualSummarizerAgenticRAGLLM/final/lib/python3.11/site-packages (from jsonschema[format-nongpl]>=4.18.0->jupyter-events>=0.11.0->jupyter-server<3,>=2.4.0->jupyterlab) (20.11.0)\n",
      "Requirement already satisfied: jsonpointer>1.13 in /root/MultilingualSummarizerAgenticRAGLLM/final/lib/python3.11/site-packages (from jsonschema[format-nongpl]>=4.18.0->jupyter-events>=0.11.0->jupyter-server<3,>=2.4.0->jupyterlab) (3.0.0)\n",
      "Requirement already satisfied: uri-template in /root/MultilingualSummarizerAgenticRAGLLM/final/lib/python3.11/site-packages (from jsonschema[format-nongpl]>=4.18.0->jupyter-events>=0.11.0->jupyter-server<3,>=2.4.0->jupyterlab) (1.3.0)\n",
      "Requirement already satisfied: webcolors>=24.6.0 in /root/MultilingualSummarizerAgenticRAGLLM/final/lib/python3.11/site-packages (from jsonschema[format-nongpl]>=4.18.0->jupyter-events>=0.11.0->jupyter-server<3,>=2.4.0->jupyterlab) (24.11.1)\n",
      "Requirement already satisfied: wcwidth in /root/MultilingualSummarizerAgenticRAGLLM/final/lib/python3.11/site-packages (from prompt_toolkit<3.1.0,>=3.0.41->ipython>=7.23.1->ipykernel>=6.5.0->jupyterlab) (0.2.13)\n",
      "Requirement already satisfied: six>=1.5 in /root/MultilingualSummarizerAgenticRAGLLM/final/lib/python3.11/site-packages (from python-dateutil>=2.8.2->jupyter-client>=6.1.12->ipykernel>=6.5.0->jupyterlab) (1.17.0)\n",
      "Requirement already satisfied: cffi>=1.0.1 in /root/MultilingualSummarizerAgenticRAGLLM/final/lib/python3.11/site-packages (from argon2-cffi-bindings->argon2-cffi>=21.1->jupyter-server<3,>=2.4.0->jupyterlab) (1.17.1)\n",
      "Requirement already satisfied: soupsieve>1.2 in /root/MultilingualSummarizerAgenticRAGLLM/final/lib/python3.11/site-packages (from beautifulsoup4->nbconvert>=6.4.4->jupyter-server<3,>=2.4.0->jupyterlab) (2.6)\n",
      "Requirement already satisfied: executing>=1.2.0 in /root/MultilingualSummarizerAgenticRAGLLM/final/lib/python3.11/site-packages (from stack_data->ipython>=7.23.1->ipykernel>=6.5.0->jupyterlab) (2.2.0)\n",
      "Requirement already satisfied: asttokens>=2.1.0 in /root/MultilingualSummarizerAgenticRAGLLM/final/lib/python3.11/site-packages (from stack_data->ipython>=7.23.1->ipykernel>=6.5.0->jupyterlab) (3.0.0)\n",
      "Requirement already satisfied: pure-eval in /root/MultilingualSummarizerAgenticRAGLLM/final/lib/python3.11/site-packages (from stack_data->ipython>=7.23.1->ipykernel>=6.5.0->jupyterlab) (0.2.3)\n",
      "Requirement already satisfied: pycparser in /root/MultilingualSummarizerAgenticRAGLLM/final/lib/python3.11/site-packages (from cffi>=1.0.1->argon2-cffi-bindings->argon2-cffi>=21.1->jupyter-server<3,>=2.4.0->jupyterlab) (2.22)\n",
      "Requirement already satisfied: arrow>=0.15.0 in /root/MultilingualSummarizerAgenticRAGLLM/final/lib/python3.11/site-packages (from isoduration->jsonschema[format-nongpl]>=4.18.0->jupyter-events>=0.11.0->jupyter-server<3,>=2.4.0->jupyterlab) (1.3.0)\n",
      "Requirement already satisfied: types-python-dateutil>=2.8.10 in /root/MultilingualSummarizerAgenticRAGLLM/final/lib/python3.11/site-packages (from arrow>=0.15.0->isoduration->jsonschema[format-nongpl]>=4.18.0->jupyter-events>=0.11.0->jupyter-server<3,>=2.4.0->jupyterlab) (2.9.0.20241206)\n",
      "Note: you may need to restart the kernel to use updated packages.\n",
      "Requirement already satisfied: widgetsnbextension in /root/MultilingualSummarizerAgenticRAGLLM/final/lib/python3.11/site-packages (4.0.13)\n",
      "Note: you may need to restart the kernel to use updated packages.\n"
     ]
    }
   ],
   "source": [
    "%pip install --upgrade pip\n",
    "%pip install ipywidgets\n",
    "%pip install --upgrade datasets[audio] transformers accelerate evaluate jiwer tensorboard gradio\n",
    "%pip install --upgrade ipywidgets\n",
    "%pip install notebook\n",
    "%pip install jupyterlab\n",
    "%pip install widgetsnbextension"
   ]
  },
  {
   "cell_type": "code",
   "execution_count": 3,
   "metadata": {},
   "outputs": [
    {
     "data": {
      "application/vnd.jupyter.widget-view+json": {
       "model_id": "bd5d32120a9d451aae3e7d41006264fa",
       "version_major": 2,
       "version_minor": 0
      },
      "text/plain": [
       "VBox(children=(HTML(value='<center> <img\\nsrc=https://huggingface.co/front/assets/huggingface_logo-noborder.sv…"
      ]
     },
     "metadata": {},
     "output_type": "display_data"
    },
    {
     "name": "stderr",
     "output_type": "stream",
     "text": [
      "Token has not been saved to git credential helper.\n"
     ]
    }
   ],
   "source": [
    "from huggingface_hub import notebook_login\n",
    "\n",
    "notebook_login()"
   ]
  },
  {
   "cell_type": "code",
   "execution_count": 23,
   "metadata": {},
   "outputs": [
    {
     "name": "stdout",
     "output_type": "stream",
     "text": [
      "DatasetDict({\n",
      "    train: Dataset({\n",
      "        features: ['client_id', 'path', 'audio', 'sentence', 'up_votes', 'down_votes', 'age', 'gender', 'accent', 'locale', 'segment'],\n",
      "        num_rows: 38481\n",
      "    })\n",
      "    test: Dataset({\n",
      "        features: ['client_id', 'path', 'audio', 'sentence', 'up_votes', 'down_votes', 'age', 'gender', 'accent', 'locale', 'segment'],\n",
      "        num_rows: 10440\n",
      "    })\n",
      "})\n"
     ]
    }
   ],
   "source": [
    "from datasets import load_dataset, DatasetDict\n",
    "from huggingface_hub import HfFolder\n",
    "from datasets import DownloadConfig\n",
    "\n",
    "# Create a download config with your auth token\n",
    "download_config = DownloadConfig(token=HfFolder.get_token())\n",
    "\n",
    "common_voice = DatasetDict()\n",
    "\n",
    "# Load the dataset with the correct auth configuration\n",
    "common_voice[\"train\"] = load_dataset(\n",
    "    \"mozilla-foundation/common_voice_11_0\",\n",
    "    \"ar\",\n",
    "    split=\"train+validation\",\n",
    "    trust_remote_code=True,\n",
    "    download_config=download_config\n",
    ")\n",
    "\n",
    "common_voice[\"test\"] = load_dataset(\n",
    "    \"mozilla-foundation/common_voice_11_0\",\n",
    "    \"ar\",\n",
    "    split=\"test\",\n",
    "    trust_remote_code=True,\n",
    "    download_config=download_config\n",
    ")\n",
    "\n",
    "print(common_voice)"
   ]
  },
  {
   "cell_type": "code",
   "execution_count": 24,
   "metadata": {},
   "outputs": [],
   "source": [
    "common_voice = common_voice.remove_columns([\"accent\", \"age\", \"client_id\", \"down_votes\", \"gender\", \"locale\", \"path\", \"segment\", \"up_votes\"])"
   ]
  },
  {
   "cell_type": "code",
   "execution_count": 25,
   "metadata": {},
   "outputs": [],
   "source": [
    "from transformers import WhisperFeatureExtractor\n",
    "feature_extractor = WhisperFeatureExtractor.from_pretrained(\"openai/whisper-small\")"
   ]
  },
  {
   "cell_type": "code",
   "execution_count": 26,
   "metadata": {},
   "outputs": [],
   "source": [
    "from transformers import WhisperTokenizer\n",
    "tokenizer = WhisperTokenizer.from_pretrained(\"openai/whisper-small\", language=\"arabic\", task=\"transcribe\")"
   ]
  },
  {
   "cell_type": "code",
   "execution_count": 27,
   "metadata": {},
   "outputs": [
    {
     "name": "stdout",
     "output_type": "stream",
     "text": [
      "Input:                 وما أدراك ما يوم الدين\n",
      "Decoded w/ special:    <|startoftranscript|><|ar|><|transcribe|><|notimestamps|>وما أدراك ما يوم الدين<|endoftext|>\n",
      "Decoded w/out special: وما أدراك ما يوم الدين\n",
      "Are equal:             True\n"
     ]
    }
   ],
   "source": [
    "input_str = common_voice[\"train\"][0][\"sentence\"]\n",
    "labels = tokenizer(input_str).input_ids\n",
    "decoded_with_special = tokenizer.decode(labels, skip_special_tokens=False)\n",
    "decoded_str = tokenizer.decode(labels, skip_special_tokens=True)\n",
    "\n",
    "print(f\"Input:                 {input_str}\")\n",
    "print(f\"Decoded w/ special:    {decoded_with_special}\")\n",
    "print(f\"Decoded w/out special: {decoded_str}\")\n",
    "print(f\"Are equal:             {input_str == decoded_str}\")"
   ]
  },
  {
   "cell_type": "code",
   "execution_count": 28,
   "metadata": {},
   "outputs": [],
   "source": [
    "from transformers import WhisperProcessor\n",
    "processor = WhisperProcessor.from_pretrained(\"openai/whisper-small\", language=\"arabic\", task=\"transcribe\")"
   ]
  },
  {
   "cell_type": "code",
   "execution_count": 29,
   "metadata": {},
   "outputs": [
    {
     "name": "stdout",
     "output_type": "stream",
     "text": [
      "{'audio': {'path': '/root/.cache/huggingface/datasets/downloads/extracted/03e3da23e5fa2d7de56094c40cc7ea529b3b571b215978f053d1fd26557901a6/ar_train_0/common_voice_ar_24082672.mp3', 'array': array([-2.13162821e-14, -1.01252340e-13, -3.55271368e-14, ...,\n",
      "        1.26173454e-08,  1.54317320e-07,  1.32340631e-07]), 'sampling_rate': 48000}, 'sentence': 'وما أدراك ما يوم الدين'}\n"
     ]
    }
   ],
   "source": [
    "print(common_voice[\"train\"][0])"
   ]
  },
  {
   "cell_type": "code",
   "execution_count": 30,
   "metadata": {},
   "outputs": [],
   "source": [
    "from datasets import Audio\n",
    "\n",
    "common_voice = common_voice.cast_column(\"audio\", Audio(sampling_rate=16000))"
   ]
  },
  {
   "cell_type": "code",
   "execution_count": 31,
   "metadata": {},
   "outputs": [
    {
     "name": "stdout",
     "output_type": "stream",
     "text": [
      "{'audio': {'path': '/root/.cache/huggingface/datasets/downloads/extracted/03e3da23e5fa2d7de56094c40cc7ea529b3b571b215978f053d1fd26557901a6/ar_train_0/common_voice_ar_24082672.mp3', 'array': array([ 8.73114914e-11, -4.36557457e-11,  1.67347025e-10, ...,\n",
      "       -2.33121682e-08, -2.25205440e-07,  4.55183908e-08]), 'sampling_rate': 16000}, 'sentence': 'وما أدراك ما يوم الدين'}\n"
     ]
    }
   ],
   "source": [
    "print(common_voice[\"train\"][0])"
   ]
  },
  {
   "cell_type": "code",
   "execution_count": 32,
   "metadata": {},
   "outputs": [],
   "source": [
    "import torch\n",
    "from transformers import WhisperFeatureExtractor, WhisperTokenizer\n",
    "from functools import partial\n",
    "\n",
    "# Force CUDA device\n",
    "assert torch.cuda.is_available(), \"CUDA is required for this script\"\n",
    "device = torch.device(\"cuda\")\n",
    "\n",
    "# Initialize the feature extractor and tokenizer directly on GPU\n",
    "feature_extractor = WhisperFeatureExtractor.from_pretrained(\n",
    "    \"openai/whisper-small\",\n",
    "    device_map=\"cuda\"\n",
    ")\n",
    "tokenizer = WhisperTokenizer.from_pretrained(\n",
    "    \"openai/whisper-small\", \n",
    "    language=\"arabic\", \n",
    "    task=\"transcribe\",\n",
    "    device_map=\"cuda\"\n",
    ")\n",
    "\n",
    "def prepare_dataset(feature_extractor, tokenizer, batch):\n",
    "    # Process each audio sample in the batch\n",
    "    input_features_list = []\n",
    "    for audio_data in batch[\"audio\"]:\n",
    "        # compute log-Mel input features from input audio array and move to GPU immediately\n",
    "        features = feature_extractor(\n",
    "            audio_data[\"array\"], \n",
    "            sampling_rate=audio_data[\"sampling_rate\"],\n",
    "            return_tensors=\"pt\"\n",
    "        ).input_features[0].cuda()\n",
    "        input_features_list.append(features)\n",
    "    \n",
    "    # Stack features (already on GPU)\n",
    "    batch[\"input_features\"] = torch.stack(input_features_list)\n",
    "\n",
    "    # Tokenize all sentences at once with padding\n",
    "    encoded = tokenizer(\n",
    "        batch[\"sentence\"], \n",
    "        padding=True,\n",
    "        return_tensors=\"pt\",\n",
    "        truncation=True,\n",
    "        max_length=256  # Adjust this value based on your needs\n",
    "    ).to(device)\n",
    "    \n",
    "    batch[\"labels\"] = encoded.input_ids\n",
    "    batch[\"attention_mask\"] = encoded.attention_mask\n",
    "    \n",
    "    return batch\n",
    "\n",
    "# Create a partial function with the feature_extractor and tokenizer\n",
    "prepare_dataset_with_deps = partial(prepare_dataset, feature_extractor, tokenizer)\n",
    "\n",
    "# Now map the dataset using the partial function with GPU processing\n",
    "with torch.cuda.device(0):  # Ensure operations happen on GPU\n",
    "    common_voice = common_voice.map(\n",
    "        prepare_dataset_with_deps, \n",
    "        remove_columns=common_voice.column_names[\"train\"], \n",
    "        num_proc=1,  # Using single process for GPU\n",
    "        batched=True,\n",
    "        batch_size=32  # Adjust based on your GPU memory\n",
    "    )"
   ]
  },
  {
   "cell_type": "code",
   "execution_count": 33,
   "metadata": {},
   "outputs": [],
   "source": [
    "from transformers import WhisperForConditionalGeneration\n",
    "\n",
    "model = WhisperForConditionalGeneration.from_pretrained(\"openai/whisper-small\")"
   ]
  },
  {
   "cell_type": "code",
   "execution_count": 34,
   "metadata": {},
   "outputs": [],
   "source": [
    "model.generation_config.language = \"arabic\"\n",
    "model.generation_config.task = \"transcribe\"\n",
    "\n",
    "model.generation_config.forced_decoder_ids = None"
   ]
  },
  {
   "cell_type": "code",
   "execution_count": 35,
   "metadata": {},
   "outputs": [],
   "source": [
    "import torch\n",
    "\n",
    "from dataclasses import dataclass\n",
    "from typing import Any, Dict, List, Union\n",
    "\n",
    "@dataclass\n",
    "class DataCollatorSpeechSeq2SeqWithPadding:\n",
    "    processor: Any\n",
    "    decoder_start_token_id: int\n",
    "\n",
    "    def __call__(self, features: List[Dict[str, Union[List[int], torch.Tensor]]]) -> Dict[str, torch.Tensor]:\n",
    "        # split inputs and labels since they have to be of different lengths and need different padding methods\n",
    "        # first treat the audio inputs by simply returning torch tensors\n",
    "        input_features = [{\"input_features\": feature[\"input_features\"]} for feature in features]\n",
    "        batch = self.processor.feature_extractor.pad(input_features, return_tensors=\"pt\")\n",
    "\n",
    "        # get the tokenized label sequences\n",
    "        label_features = [{\"input_ids\": feature[\"labels\"]} for feature in features]\n",
    "        # pad the labels to max length\n",
    "        labels_batch = self.processor.tokenizer.pad(label_features, return_tensors=\"pt\")\n",
    "\n",
    "        # replace padding with -100 to ignore loss correctly\n",
    "        labels = labels_batch[\"input_ids\"].masked_fill(labels_batch.attention_mask.ne(1), -100)\n",
    "\n",
    "        # if bos token is appended in previous tokenization step,\n",
    "        # cut bos token here as it's append later anyways\n",
    "        if (labels[:, 0] == self.decoder_start_token_id).all().cpu().item():\n",
    "            labels = labels[:, 1:]\n",
    "\n",
    "        batch[\"labels\"] = labels\n",
    "\n",
    "        return batch"
   ]
  },
  {
   "cell_type": "code",
   "execution_count": 36,
   "metadata": {},
   "outputs": [],
   "source": [
    "data_collator = DataCollatorSpeechSeq2SeqWithPadding(\n",
    "    processor=processor,\n",
    "    decoder_start_token_id=model.config.decoder_start_token_id,\n",
    ")"
   ]
  },
  {
   "cell_type": "code",
   "execution_count": 37,
   "metadata": {},
   "outputs": [],
   "source": [
    "import evaluate\n",
    "\n",
    "metric = evaluate.load(\"wer\")"
   ]
  },
  {
   "cell_type": "code",
   "execution_count": 38,
   "metadata": {},
   "outputs": [],
   "source": [
    "def compute_metrics(pred):\n",
    "    pred_ids = pred.predictions\n",
    "    label_ids = pred.label_ids\n",
    "\n",
    "    # replace -100 with the pad_token_id\n",
    "    label_ids[label_ids == -100] = tokenizer.pad_token_id\n",
    "\n",
    "    # we do not want to group tokens when computing the metrics\n",
    "    pred_str = tokenizer.batch_decode(pred_ids, skip_special_tokens=True)\n",
    "    label_str = tokenizer.batch_decode(label_ids, skip_special_tokens=True)\n",
    "\n",
    "    wer = 100 * metric.compute(predictions=pred_str, references=label_str)\n",
    "\n",
    "    return {\"wer\": wer}"
   ]
  },
  {
   "cell_type": "code",
   "execution_count": 39,
   "metadata": {},
   "outputs": [
    {
     "name": "stderr",
     "output_type": "stream",
     "text": [
      "/root/MultilingualSummarizerAgenticRAGLLM/final/lib/python3.11/site-packages/transformers/training_args.py:1575: FutureWarning: `evaluation_strategy` is deprecated and will be removed in version 4.46 of 🤗 Transformers. Use `eval_strategy` instead\n",
      "  warnings.warn(\n"
     ]
    }
   ],
   "source": [
    "from transformers import Seq2SeqTrainingArguments\n",
    "\n",
    "training_args = Seq2SeqTrainingArguments(\n",
    "    output_dir=\"./whisper-small-arabic\",  # change to a repo name of your choice\n",
    "    per_device_train_batch_size=16,\n",
    "    gradient_accumulation_steps=1,  # increase by 2x for every 2x decrease in batch size\n",
    "    learning_rate=1e-5,\n",
    "    warmup_steps=500,\n",
    "    max_steps=5000,\n",
    "    gradient_checkpointing=True,\n",
    "    fp16=True,\n",
    "    evaluation_strategy=\"steps\",\n",
    "    per_device_eval_batch_size=8,\n",
    "    predict_with_generate=True,\n",
    "    generation_max_length=225,\n",
    "    save_steps=1000,\n",
    "    eval_steps=1000,\n",
    "    logging_steps=25,\n",
    "    report_to=[\"tensorboard\"],\n",
    "    load_best_model_at_end=True,\n",
    "    metric_for_best_model=\"wer\",\n",
    "    greater_is_better=False,\n",
    "    push_to_hub=True,\n",
    ")"
   ]
  },
  {
   "cell_type": "code",
   "execution_count": 40,
   "metadata": {},
   "outputs": [
    {
     "name": "stderr",
     "output_type": "stream",
     "text": [
      "/tmp/ipykernel_4101/240849381.py:3: FutureWarning: `tokenizer` is deprecated and will be removed in version 5.0.0 for `Seq2SeqTrainer.__init__`. Use `processing_class` instead.\n",
      "  trainer = Seq2SeqTrainer(\n"
     ]
    }
   ],
   "source": [
    "from transformers import Seq2SeqTrainer\n",
    "\n",
    "trainer = Seq2SeqTrainer(\n",
    "    args=training_args,\n",
    "    model=model,\n",
    "    train_dataset=common_voice[\"train\"],\n",
    "    eval_dataset=common_voice[\"test\"],\n",
    "    data_collator=data_collator,\n",
    "    compute_metrics=compute_metrics,\n",
    "    tokenizer=processor.feature_extractor,\n",
    ")"
   ]
  },
  {
   "cell_type": "code",
   "execution_count": 41,
   "metadata": {},
   "outputs": [
    {
     "name": "stderr",
     "output_type": "stream",
     "text": [
      "Passing a tuple of `past_key_values` is deprecated and will be removed in Transformers v4.43.0. You should pass an instance of `EncoderDecoderCache` instead, e.g. `past_key_values=EncoderDecoderCache.from_legacy_cache(past_key_values)`.\n",
      "`use_cache = True` is incompatible with gradient checkpointing. Setting `use_cache = False`...\n"
     ]
    },
    {
     "data": {
      "text/html": [
       "\n",
       "    <div>\n",
       "      \n",
       "      <progress value='5000' max='5000' style='width:300px; height:20px; vertical-align: middle;'></progress>\n",
       "      [5000/5000 7:57:18, Epoch 2/3]\n",
       "    </div>\n",
       "    <table border=\"1\" class=\"dataframe\">\n",
       "  <thead>\n",
       " <tr style=\"text-align: left;\">\n",
       "      <th>Step</th>\n",
       "      <th>Training Loss</th>\n",
       "      <th>Validation Loss</th>\n",
       "      <th>Wer</th>\n",
       "    </tr>\n",
       "  </thead>\n",
       "  <tbody>\n",
       "    <tr>\n",
       "      <td>1000</td>\n",
       "      <td>0.110900</td>\n",
       "      <td>0.173932</td>\n",
       "      <td>49.764025</td>\n",
       "    </tr>\n",
       "    <tr>\n",
       "      <td>2000</td>\n",
       "      <td>0.099800</td>\n",
       "      <td>0.151588</td>\n",
       "      <td>46.610963</td>\n",
       "    </tr>\n",
       "    <tr>\n",
       "      <td>3000</td>\n",
       "      <td>0.068800</td>\n",
       "      <td>0.149143</td>\n",
       "      <td>47.519971</td>\n",
       "    </tr>\n",
       "    <tr>\n",
       "      <td>4000</td>\n",
       "      <td>0.062200</td>\n",
       "      <td>0.141933</td>\n",
       "      <td>44.414654</td>\n",
       "    </tr>\n",
       "    <tr>\n",
       "      <td>5000</td>\n",
       "      <td>0.038000</td>\n",
       "      <td>0.139593</td>\n",
       "      <td>44.174089</td>\n",
       "    </tr>\n",
       "  </tbody>\n",
       "</table><p>"
      ],
      "text/plain": [
       "<IPython.core.display.HTML object>"
      ]
     },
     "metadata": {},
     "output_type": "display_data"
    },
    {
     "name": "stderr",
     "output_type": "stream",
     "text": [
      "You have passed task=transcribe, but also have set `forced_decoder_ids` to [[1, 50259], [2, 50359], [3, 50363]] which creates a conflict. `forced_decoder_ids` will be ignored in favor of task=transcribe.\n",
      "The attention mask is not set and cannot be inferred from input because pad token is same as eos token. As a consequence, you may observe unexpected behavior. Please pass your input's `attention_mask` to obtain reliable results.\n",
      "/root/MultilingualSummarizerAgenticRAGLLM/final/lib/python3.11/site-packages/transformers/modeling_utils.py:2758: UserWarning: Moving the following attributes in the config to the generation config: {'max_length': 448, 'suppress_tokens': [1, 2, 7, 8, 9, 10, 14, 25, 26, 27, 28, 29, 31, 58, 59, 60, 61, 62, 63, 90, 91, 92, 93, 359, 503, 522, 542, 873, 893, 902, 918, 922, 931, 1350, 1853, 1982, 2460, 2627, 3246, 3253, 3268, 3536, 3846, 3961, 4183, 4667, 6585, 6647, 7273, 9061, 9383, 10428, 10929, 11938, 12033, 12331, 12562, 13793, 14157, 14635, 15265, 15618, 16553, 16604, 18362, 18956, 20075, 21675, 22520, 26130, 26161, 26435, 28279, 29464, 31650, 32302, 32470, 36865, 42863, 47425, 49870, 50254, 50258, 50360, 50361, 50362], 'begin_suppress_tokens': [220, 50257]}. You are seeing this warning because you've set generation parameters in the model config, as opposed to in the generation config.\n",
      "  warnings.warn(\n",
      "There were missing keys in the checkpoint model loaded: ['proj_out.weight'].\n"
     ]
    },
    {
     "data": {
      "text/plain": [
       "TrainOutput(global_step=5000, training_loss=0.09210431472063065, metrics={'train_runtime': 28644.6619, 'train_samples_per_second': 2.793, 'train_steps_per_second': 0.175, 'total_flos': 2.30781744635904e+19, 'train_loss': 0.09210431472063065, 'epoch': 2.0781379883624274})"
      ]
     },
     "execution_count": 41,
     "metadata": {},
     "output_type": "execute_result"
    }
   ],
   "source": [
    "trainer.train()"
   ]
  },
  {
   "cell_type": "code",
   "execution_count": 44,
   "metadata": {},
   "outputs": [],
   "source": [
    "kwargs = {\n",
    "    \"dataset_tags\": \"mozilla-foundation/common_voice_11_0\",\n",
    "    \"dataset\": \"Common Voice 11.0\",  # a 'pretty' name for the training dataset\n",
    "    \"dataset_args\": \"config: ar, split: test\",\n",
    "    \"language\": \"ar\",\n",
    "    \"model_name\": \"WhisperSmallArabicFineTuned\",  # a 'pretty' name for your model\n",
    "    \"finetuned_from\": \"openai/whisper-small\",\n",
    "    \"tasks\": \"automatic-speech-recognition\",\n",
    "}"
   ]
  },
  {
   "cell_type": "code",
   "execution_count": 45,
   "metadata": {},
   "outputs": [
    {
     "name": "stderr",
     "output_type": "stream",
     "text": [
      "No files have been modified since last commit. Skipping to prevent empty commit.\n"
     ]
    },
    {
     "data": {
      "text/plain": [
       "CommitInfo(commit_url='https://huggingface.co/humbleakh/whisper-small-arabic/commit/ce58bdc086bbe15d5b7883c3f6ebd7f982e2c5ac', commit_message='End of training', commit_description='', oid='ce58bdc086bbe15d5b7883c3f6ebd7f982e2c5ac', pr_url=None, repo_url=RepoUrl('https://huggingface.co/humbleakh/whisper-small-arabic', endpoint='https://huggingface.co', repo_type='model', repo_id='humbleakh/whisper-small-arabic'), pr_revision=None, pr_num=None)"
      ]
     },
     "execution_count": 45,
     "metadata": {},
     "output_type": "execute_result"
    }
   ],
   "source": [
    "trainer.push_to_hub(**kwargs)"
   ]
  },
  {
   "cell_type": "code",
   "execution_count": 49,
   "metadata": {},
   "outputs": [
    {
     "ename": "OSError",
     "evalue": "Can't load tokenizer for 'humbleakh/whisper-small-arabic'. If you were trying to load it from 'https://huggingface.co/models', make sure you don't have a local directory with the same name. Otherwise, make sure 'humbleakh/whisper-small-arabic' is the correct path to a directory containing all relevant files for a WhisperTokenizer tokenizer.",
     "output_type": "error",
     "traceback": [
      "\u001b[0;31m---------------------------------------------------------------------------\u001b[0m",
      "\u001b[0;31mOSError\u001b[0m                                   Traceback (most recent call last)",
      "Cell \u001b[0;32mIn[49], line 4\u001b[0m\n\u001b[1;32m      1\u001b[0m \u001b[38;5;28;01mfrom\u001b[39;00m\u001b[38;5;250m \u001b[39m\u001b[38;5;21;01mtransformers\u001b[39;00m\u001b[38;5;250m \u001b[39m\u001b[38;5;28;01mimport\u001b[39;00m WhisperForConditionalGeneration, WhisperProcessor\n\u001b[1;32m      3\u001b[0m model \u001b[38;5;241m=\u001b[39m WhisperForConditionalGeneration\u001b[38;5;241m.\u001b[39mfrom_pretrained(\u001b[38;5;124m\"\u001b[39m\u001b[38;5;124mhumbleakh/whisper-small-arabic\u001b[39m\u001b[38;5;124m\"\u001b[39m)\n\u001b[0;32m----> 4\u001b[0m processor \u001b[38;5;241m=\u001b[39m \u001b[43mWhisperProcessor\u001b[49m\u001b[38;5;241;43m.\u001b[39;49m\u001b[43mfrom_pretrained\u001b[49m\u001b[43m(\u001b[49m\u001b[38;5;124;43m\"\u001b[39;49m\u001b[38;5;124;43mhumbleakh/whisper-small-arabic\u001b[39;49m\u001b[38;5;124;43m\"\u001b[39;49m\u001b[43m)\u001b[49m\n",
      "File \u001b[0;32m~/MultilingualSummarizerAgenticRAGLLM/final/lib/python3.11/site-packages/transformers/processing_utils.py:974\u001b[0m, in \u001b[0;36mProcessorMixin.from_pretrained\u001b[0;34m(cls, pretrained_model_name_or_path, cache_dir, force_download, local_files_only, token, revision, **kwargs)\u001b[0m\n\u001b[1;32m    971\u001b[0m \u001b[38;5;28;01mif\u001b[39;00m token \u001b[38;5;129;01mis\u001b[39;00m \u001b[38;5;129;01mnot\u001b[39;00m \u001b[38;5;28;01mNone\u001b[39;00m:\n\u001b[1;32m    972\u001b[0m     kwargs[\u001b[38;5;124m\"\u001b[39m\u001b[38;5;124mtoken\u001b[39m\u001b[38;5;124m\"\u001b[39m] \u001b[38;5;241m=\u001b[39m token\n\u001b[0;32m--> 974\u001b[0m args \u001b[38;5;241m=\u001b[39m \u001b[38;5;28;43mcls\u001b[39;49m\u001b[38;5;241;43m.\u001b[39;49m\u001b[43m_get_arguments_from_pretrained\u001b[49m\u001b[43m(\u001b[49m\u001b[43mpretrained_model_name_or_path\u001b[49m\u001b[43m,\u001b[49m\u001b[43m \u001b[49m\u001b[38;5;241;43m*\u001b[39;49m\u001b[38;5;241;43m*\u001b[39;49m\u001b[43mkwargs\u001b[49m\u001b[43m)\u001b[49m\n\u001b[1;32m    975\u001b[0m processor_dict, kwargs \u001b[38;5;241m=\u001b[39m \u001b[38;5;28mcls\u001b[39m\u001b[38;5;241m.\u001b[39mget_processor_dict(pretrained_model_name_or_path, \u001b[38;5;241m*\u001b[39m\u001b[38;5;241m*\u001b[39mkwargs)\n\u001b[1;32m    977\u001b[0m \u001b[38;5;28;01mreturn\u001b[39;00m \u001b[38;5;28mcls\u001b[39m\u001b[38;5;241m.\u001b[39mfrom_args_and_dict(args, processor_dict, \u001b[38;5;241m*\u001b[39m\u001b[38;5;241m*\u001b[39mkwargs)\n",
      "File \u001b[0;32m~/MultilingualSummarizerAgenticRAGLLM/final/lib/python3.11/site-packages/transformers/processing_utils.py:1020\u001b[0m, in \u001b[0;36mProcessorMixin._get_arguments_from_pretrained\u001b[0;34m(cls, pretrained_model_name_or_path, **kwargs)\u001b[0m\n\u001b[1;32m   1017\u001b[0m     \u001b[38;5;28;01melse\u001b[39;00m:\n\u001b[1;32m   1018\u001b[0m         attribute_class \u001b[38;5;241m=\u001b[39m \u001b[38;5;28mgetattr\u001b[39m(transformers_module, class_name)\n\u001b[0;32m-> 1020\u001b[0m     args\u001b[38;5;241m.\u001b[39mappend(\u001b[43mattribute_class\u001b[49m\u001b[38;5;241;43m.\u001b[39;49m\u001b[43mfrom_pretrained\u001b[49m\u001b[43m(\u001b[49m\u001b[43mpretrained_model_name_or_path\u001b[49m\u001b[43m,\u001b[49m\u001b[43m \u001b[49m\u001b[38;5;241;43m*\u001b[39;49m\u001b[38;5;241;43m*\u001b[39;49m\u001b[43mkwargs\u001b[49m\u001b[43m)\u001b[49m)\n\u001b[1;32m   1021\u001b[0m \u001b[38;5;28;01mreturn\u001b[39;00m args\n",
      "File \u001b[0;32m~/MultilingualSummarizerAgenticRAGLLM/final/lib/python3.11/site-packages/transformers/tokenization_utils_base.py:2020\u001b[0m, in \u001b[0;36mPreTrainedTokenizerBase.from_pretrained\u001b[0;34m(cls, pretrained_model_name_or_path, cache_dir, force_download, local_files_only, token, revision, trust_remote_code, *init_inputs, **kwargs)\u001b[0m\n\u001b[1;32m   2017\u001b[0m \u001b[38;5;66;03m# If one passes a GGUF file path to `gguf_file` there is no need for this check as the tokenizer will be\u001b[39;00m\n\u001b[1;32m   2018\u001b[0m \u001b[38;5;66;03m# loaded directly from the GGUF file.\u001b[39;00m\n\u001b[1;32m   2019\u001b[0m \u001b[38;5;28;01mif\u001b[39;00m \u001b[38;5;28mall\u001b[39m(full_file_name \u001b[38;5;129;01mis\u001b[39;00m \u001b[38;5;28;01mNone\u001b[39;00m \u001b[38;5;28;01mfor\u001b[39;00m full_file_name \u001b[38;5;129;01min\u001b[39;00m resolved_vocab_files\u001b[38;5;241m.\u001b[39mvalues()) \u001b[38;5;129;01mand\u001b[39;00m \u001b[38;5;129;01mnot\u001b[39;00m gguf_file:\n\u001b[0;32m-> 2020\u001b[0m     \u001b[38;5;28;01mraise\u001b[39;00m \u001b[38;5;167;01mEnvironmentError\u001b[39;00m(\n\u001b[1;32m   2021\u001b[0m         \u001b[38;5;124mf\u001b[39m\u001b[38;5;124m\"\u001b[39m\u001b[38;5;124mCan\u001b[39m\u001b[38;5;124m'\u001b[39m\u001b[38;5;124mt load tokenizer for \u001b[39m\u001b[38;5;124m'\u001b[39m\u001b[38;5;132;01m{\u001b[39;00mpretrained_model_name_or_path\u001b[38;5;132;01m}\u001b[39;00m\u001b[38;5;124m'\u001b[39m\u001b[38;5;124m. If you were trying to load it from \u001b[39m\u001b[38;5;124m\"\u001b[39m\n\u001b[1;32m   2022\u001b[0m         \u001b[38;5;124m\"\u001b[39m\u001b[38;5;124m'\u001b[39m\u001b[38;5;124mhttps://huggingface.co/models\u001b[39m\u001b[38;5;124m'\u001b[39m\u001b[38;5;124m, make sure you don\u001b[39m\u001b[38;5;124m'\u001b[39m\u001b[38;5;124mt have a local directory with the same name. \u001b[39m\u001b[38;5;124m\"\u001b[39m\n\u001b[1;32m   2023\u001b[0m         \u001b[38;5;124mf\u001b[39m\u001b[38;5;124m\"\u001b[39m\u001b[38;5;124mOtherwise, make sure \u001b[39m\u001b[38;5;124m'\u001b[39m\u001b[38;5;132;01m{\u001b[39;00mpretrained_model_name_or_path\u001b[38;5;132;01m}\u001b[39;00m\u001b[38;5;124m'\u001b[39m\u001b[38;5;124m is the correct path to a directory \u001b[39m\u001b[38;5;124m\"\u001b[39m\n\u001b[1;32m   2024\u001b[0m         \u001b[38;5;124mf\u001b[39m\u001b[38;5;124m\"\u001b[39m\u001b[38;5;124mcontaining all relevant files for a \u001b[39m\u001b[38;5;132;01m{\u001b[39;00m\u001b[38;5;28mcls\u001b[39m\u001b[38;5;241m.\u001b[39m\u001b[38;5;18m__name__\u001b[39m\u001b[38;5;132;01m}\u001b[39;00m\u001b[38;5;124m tokenizer.\u001b[39m\u001b[38;5;124m\"\u001b[39m\n\u001b[1;32m   2025\u001b[0m     )\n\u001b[1;32m   2027\u001b[0m \u001b[38;5;28;01mfor\u001b[39;00m file_id, file_path \u001b[38;5;129;01min\u001b[39;00m vocab_files\u001b[38;5;241m.\u001b[39mitems():\n\u001b[1;32m   2028\u001b[0m     \u001b[38;5;28;01mif\u001b[39;00m file_id \u001b[38;5;129;01mnot\u001b[39;00m \u001b[38;5;129;01min\u001b[39;00m resolved_vocab_files:\n",
      "\u001b[0;31mOSError\u001b[0m: Can't load tokenizer for 'humbleakh/whisper-small-arabic'. If you were trying to load it from 'https://huggingface.co/models', make sure you don't have a local directory with the same name. Otherwise, make sure 'humbleakh/whisper-small-arabic' is the correct path to a directory containing all relevant files for a WhisperTokenizer tokenizer."
     ]
    }
   ],
   "source": [
    "from transformers import WhisperForConditionalGeneration, WhisperProcessor\n",
    "\n",
    "model = WhisperForConditionalGeneration.from_pretrained(\"humbleakh/whisper-small-arabic\")\n",
    "processor = WhisperProcessor.from_pretrained(\"humbleakh/whisper-small-arabic\")\n"
   ]
  },
  {
   "cell_type": "code",
   "execution_count": null,
   "metadata": {},
   "outputs": [],
   "source": [
    "from transformers import pipeline\n",
    "import gradio as gr\n",
    "\n",
    "pipe = pipeline(model=\"humbleakh/WhisperSmallArabicFineTuned\")  # change to \"your-username/the-name-you-picked\"\n",
    "\n",
    "def transcribe(audio):\n",
    "    text = pipe(audio)[\"text\"]  \n",
    "    return text\n",
    "\n",
    "iface = gr.Interface(\n",
    "    fn=transcribe, \n",
    "    inputs=gr.Audio(source=\"microphone\", type=\"filepath\"), \n",
    "    outputs=\"text\",\n",
    "    title=\"Whisper Small Arabic\",\n",
    "    description=\"Realtime demo for Arabic speech recognition using a fine-tuned Whisper small model.\",\n",
    ")\n",
    "\n",
    "iface.launch()\n"
   ]
  },
  {
   "cell_type": "code",
   "execution_count": null,
   "metadata": {},
   "outputs": [],
   "source": []
  },
  {
   "cell_type": "code",
   "execution_count": null,
   "metadata": {},
   "outputs": [],
   "source": []
  },
  {
   "cell_type": "code",
   "execution_count": null,
   "metadata": {},
   "outputs": [],
   "source": []
  },
  {
   "cell_type": "code",
   "execution_count": null,
   "metadata": {},
   "outputs": [],
   "source": []
  },
  {
   "cell_type": "code",
   "execution_count": null,
   "metadata": {},
   "outputs": [],
   "source": []
  }
 ],
 "metadata": {
  "kernelspec": {
   "display_name": "final",
   "language": "python",
   "name": "python3"
  },
  "language_info": {
   "codemirror_mode": {
    "name": "ipython",
    "version": 3
   },
   "file_extension": ".py",
   "mimetype": "text/x-python",
   "name": "python",
   "nbconvert_exporter": "python",
   "pygments_lexer": "ipython3",
   "version": "3.11.10"
  }
 },
 "nbformat": 4,
 "nbformat_minor": 2
}
